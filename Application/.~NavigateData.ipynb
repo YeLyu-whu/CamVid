{
 "cells": [
  {
   "cell_type": "code",
   "execution_count": 2,
   "metadata": {
    "collapsed": true
   },
   "outputs": [],
   "source": [
    "import tensorflow as tf"
   ]
  },
  {
   "cell_type": "code",
   "execution_count": 79,
   "metadata": {
    "collapsed": true
   },
   "outputs": [],
   "source": [
    "import os\n",
    "import sys\n",
    "import threading\n",
    "\n",
    "import numpy as np\n",
    "from PIL import Image"
   ]
  },
  {
   "cell_type": "code",
   "execution_count": 165,
   "metadata": {
    "collapsed": true
   },
   "outputs": [],
   "source": [
    "from matplotlib import pyplot as plt\n",
    "%matplotlib notebook"
   ]
  },
  {
   "cell_type": "code",
   "execution_count": 16,
   "metadata": {
    "collapsed": true
   },
   "outputs": [],
   "source": [
    "from __future__ import print_function\n",
    "from __future__ import division\n",
    "from __future__ import absolute_import"
   ]
  },
  {
   "cell_type": "code",
   "execution_count": 175,
   "metadata": {
    "collapsed": true
   },
   "outputs": [],
   "source": [
    "BASE_DIR = os.path.abspath(os.path.dirname(sys.argv[1]))"
   ]
  },
  {
   "cell_type": "code",
   "execution_count": 176,
   "metadata": {},
   "outputs": [
    {
     "data": {
      "text/plain": [
       "'/home/yelyu/Work/Dataset/CamVid/Application'"
      ]
     },
     "execution_count": 176,
     "metadata": {},
     "output_type": "execute_result"
    }
   ],
   "source": [
    "BASE_DIR"
   ]
  },
  {
   "cell_type": "code",
   "execution_count": 74,
   "metadata": {},
   "outputs": [],
   "source": [
    "def isImageFile(filePath):\n",
    "    basename_ext = os.path.splitext(filePath)\n",
    "    ext= basename_ext[1]\n",
    "    ext = ext.lower()\n",
    "    if ext=='.bmp': \n",
    "        return True\n",
    "    if ext=='.png': \n",
    "        return True\n",
    "    if ext=='.jpg': \n",
    "        return True\n",
    "    return False"
   ]
  },
  {
   "cell_type": "code",
   "execution_count": 75,
   "metadata": {},
   "outputs": [],
   "source": [
    "def filter_for_images(fileList):\n",
    "    image_list = []\n",
    "    for i in range(len(fileList)):\n",
    "        fileName = fileList[i]\n",
    "        if isImageFile(fileName):\n",
    "            image_list.append(fileName)\n",
    "    return image_list"
   ]
  },
  {
   "cell_type": "code",
   "execution_count": 376,
   "metadata": {
    "collapsed": true
   },
   "outputs": [],
   "source": [
    "def find_all_images(dir_path = './'):\n",
    "    ls_files = os.listdir(dir_path)\n",
    "    print(\"There are %d files found in total.\"%len(ls_files))\n",
    "    image_list = filter_for_images(ls_files)\n",
    "    print(\"And %d image files are found.\"%len(image_list))\n",
    "    for i in range(len(image_list)):\n",
    "        image_list[i] =os.path.join(dir_path,image_list[i])\n",
    "    return image_list"
   ]
  },
  {
   "cell_type": "code",
   "execution_count": 77,
   "metadata": {},
   "outputs": [
    {
     "name": "stdout",
     "output_type": "stream",
     "text": [
      "There are 702 files found.\n",
      "in which, 701 image files are found.\n"
     ]
    }
   ],
   "source": [
    "imgList = find_all_images(\"../701_StillsRaw_full\")"
   ]
  },
  {
   "cell_type": "code",
   "execution_count": 141,
   "metadata": {
    "collapsed": true
   },
   "outputs": [],
   "source": [
    "def pase_Label_File(filePath):\n",
    "    f = open(filePath,mode='r')\n",
    "    lines = f.readlines()\n",
    "    label_items=[]\n",
    "    for i in range(len(lines)):\n",
    "        item = lines[i]\n",
    "        item = item.split()\n",
    "        r = np.uint8(item[0])\n",
    "        g = np.uint8(item[1])\n",
    "        b = np.uint8(item[2])\n",
    "        name = (item[3])\n",
    "        print((r,g,b,name))\n",
    "        label_items.append((r,g,b,name))\n",
    "    f.close()\n",
    "    return label_items"
   ]
  },
  {
   "cell_type": "code",
   "execution_count": 142,
   "metadata": {},
   "outputs": [],
   "source": [
    "def readLabelTxt(filePath):\n",
    "    basename_ext = os.path.splitext(filePath)\n",
    "    ext = basename_ext[1].lower()\n",
    "    label_items = None\n",
    "    if ext!='.txt':\n",
    "        raise ValueError('This is not txt file')\n",
    "    else:\n",
    "        label_items = pase_Label_File(filePath)\n",
    "    return label_items  "
   ]
  },
  {
   "cell_type": "code",
   "execution_count": 143,
   "metadata": {},
   "outputs": [
    {
     "name": "stdout",
     "output_type": "stream",
     "text": [
      "(64, 128, 64, 'Animal')\n",
      "(192, 0, 128, 'Archway')\n",
      "(0, 128, 192, 'Bicyclist')\n",
      "(0, 128, 64, 'Bridge')\n",
      "(128, 0, 0, 'Building')\n",
      "(64, 0, 128, 'Car')\n",
      "(64, 0, 192, 'CartLuggagePram')\n",
      "(192, 128, 64, 'Child')\n",
      "(192, 192, 128, 'Column_Pole')\n",
      "(64, 64, 128, 'Fence')\n",
      "(128, 0, 192, 'LaneMkgsDriv')\n",
      "(192, 0, 64, 'LaneMkgsNonDriv')\n",
      "(128, 128, 64, 'Misc_Text')\n",
      "(192, 0, 192, 'MotorcycleScooter')\n",
      "(128, 64, 64, 'OtherMoving')\n",
      "(64, 192, 128, 'ParkingBlock')\n",
      "(64, 64, 0, 'Pedestrian')\n",
      "(128, 64, 128, 'Road')\n",
      "(128, 128, 192, 'RoadShoulder')\n",
      "(0, 0, 192, 'Sidewalk')\n",
      "(192, 128, 128, 'SignSymbol')\n",
      "(128, 128, 128, 'Sky')\n",
      "(64, 128, 192, 'SUVPickupTruck')\n",
      "(0, 0, 64, 'TrafficCone')\n",
      "(0, 64, 64, 'TrafficLight')\n",
      "(192, 64, 128, 'Train')\n",
      "(128, 128, 0, 'Tree')\n",
      "(192, 128, 192, 'Truck_Bus')\n",
      "(64, 0, 64, 'Tunnel')\n",
      "(192, 192, 0, 'VegetationMisc')\n",
      "(0, 0, 0, 'Void')\n",
      "(64, 192, 0, 'Wall')\n"
     ]
    }
   ],
   "source": [
    "label_items = readLabelTxt('../label_colors.txt')"
   ]
  },
  {
   "cell_type": "code",
   "execution_count": 144,
   "metadata": {},
   "outputs": [],
   "source": [
    "def findLabelColorofName(label_items,name):\n",
    "    for i in range(len(label_items)):\n",
    "        item = label_items[i]\n",
    "        if(item[3]==name): return (item[0],item[1],item[2])\n",
    "    return None"
   ]
  },
  {
   "cell_type": "code",
   "execution_count": 155,
   "metadata": {},
   "outputs": [],
   "source": [
    "def findLabelNameofColor(label_items,color):\n",
    "    for i in range(len(label_items)):\n",
    "        item = label_items[i]\n",
    "        if((item[0],item[1],item[2])==color or [item[0],item[1],item[2]]==color): return item[3]\n",
    "    return None"
   ]
  },
  {
   "cell_type": "code",
   "execution_count": 156,
   "metadata": {},
   "outputs": [
    {
     "data": {
      "text/plain": [
       "(192, 192, 0)"
      ]
     },
     "execution_count": 156,
     "metadata": {},
     "output_type": "execute_result"
    }
   ],
   "source": [
    "findLabelColorofName(label_items,'VegetationMisc')"
   ]
  },
  {
   "cell_type": "code",
   "execution_count": 158,
   "metadata": {},
   "outputs": [
    {
     "data": {
      "text/plain": [
       "'TrafficLight'"
      ]
     },
     "execution_count": 158,
     "metadata": {},
     "output_type": "execute_result"
    }
   ],
   "source": [
    "findLabelNameofColor(label_items,[0, 64, 64])"
   ]
  },
  {
   "cell_type": "markdown",
   "metadata": {},
   "source": [
    "# Write TFRecords"
   ]
  },
  {
   "cell_type": "code",
   "execution_count": 215,
   "metadata": {
    "collapsed": true
   },
   "outputs": [],
   "source": [
    "def _int64_feature(value):\n",
    "    return tf.train.Feature(int64_list=tf.train.Int64List(value=[value]))\n",
    "def _bytes_feature(value):\n",
    "    return tf.train.Feature(bytes_list=tf.train.BytesList(value=[value]))"
   ]
  },
  {
   "cell_type": "code",
   "execution_count": 339,
   "metadata": {
    "collapsed": true
   },
   "outputs": [],
   "source": [
    "def convertDataToTFRecord(imagePath,tfrecoredPath):\n",
    "    with tf.python_io.TFRecordWriter(tfrecoredPath) as writer:\n",
    "            im = Image.open(imagePath)\n",
    "            fim = np.array(im).astype(np.float32)\n",
    "            #shape = np.array(np.shape(im)).astype(np.int64)\n",
    "            shape = np.array(np.shape(im)).astype(np.float32)\n",
    "            feature={'shape':_bytes_feature(tf.compat.as_bytes(shape.tostring())),\n",
    "                     'train/image':_bytes_feature(tf.compat.as_bytes(fim.tostring()))}\n",
    "            example = tf.train.Example(features=tf.train.Features(feature=feature))\n",
    "            writer.write(example.SerializeToString())"
   ]
  },
  {
   "cell_type": "raw",
   "metadata": {},
   "source": [
    "def convertImageToTFRecord(ImageFileList,outPutDir):\n",
    "    if not os.path.isdir(outPutDir):\n",
    "        raise ValueError(\"The ouput directory does not exist!\")\n",
    "   \n",
    "    file_num_count =0\n",
    "    for i in range(len(ImageFileList)):\n",
    "        FileName =ImageFileList[i]\n",
    "        FileBaseName = os.path.basename(FileName)\n",
    "        FileTfRecordsName = os.path.join(outPutDir,FileBaseName+\".tfrecords\") \n",
    "        print('FileTfRecordsName is %s'%FileTfRecordsName)\n",
    "        convertDataToTFRecord(FileName,FileTfRecordsName)\n",
    "        file_num_count+=1\n",
    "    print(\"%d files in total are converted\"%file_num_count)"
   ]
  },
  {
   "cell_type": "code",
   "execution_count": 379,
   "metadata": {
    "collapsed": true
   },
   "outputs": [],
   "source": [
    "def convertImageToTFRecords(input_dir_path,output_dir_path):\n",
    "    print(\"Input Directory is : %s\"%input_dir_path)\n",
    "    print(\"Output Directory is : %s\"%output_dir_path)\n",
    "    imgList = find_all_images(input_dir_path)\n",
    "    convertImageToTFRecord(imgList,output_dir_path)\n",
    "    print(\"Conversion Done.\")"
   ]
  },
  {
   "cell_type": "code",
   "execution_count": 381,
   "metadata": {},
   "outputs": [
    {
     "name": "stdout",
     "output_type": "stream",
     "text": [
      "Input Directory is : ../test\n",
      "Output Directory is : ../test\n",
      "There are 12 files found in total.\n",
      "And 6 image files are found.\n",
      "OutPut Directory is : ../test\n",
      "FileTfRecordsName is ../test/0001TP_006720.png.tfrecords\n",
      "FileTfRecordsName is ../test/0001TP_006750.png.tfrecords\n",
      "FileTfRecordsName is ../test/0001TP_006780.png.tfrecords\n",
      "FileTfRecordsName is ../test/0001TP_006810.png.tfrecords\n",
      "FileTfRecordsName is ../test/0001TP_006840.png.tfrecords\n",
      "FileTfRecordsName is ../test/0001TP_006690.png.tfrecords\n",
      "6 files in total are converted\n",
      "Conversion Done.\n"
     ]
    }
   ],
   "source": [
    "convertImageToTFRecords(\"../test\",\"../test\")"
   ]
  },
  {
   "cell_type": "code",
   "execution_count": 382,
   "metadata": {},
   "outputs": [
    {
     "name": "stdout",
     "output_type": "stream",
     "text": [
      "Input Directory is : ../701_StillsRaw_full\n",
      "Output Directory is : ../tfr_images\n",
      "There are 702 files found in total.\n",
      "And 701 image files are found.\n",
      "OutPut Directory is : ../tfr_images\n",
      "FileTfRecordsName is ../tfr_images/Seq05VD_f04830.png.tfrecords\n",
      "FileTfRecordsName is ../tfr_images/0016E5_06720.png.tfrecords\n",
      "FileTfRecordsName is ../tfr_images/0016E5_08047.png.tfrecords\n",
      "FileTfRecordsName is ../tfr_images/0016E5_08023.png.tfrecords\n",
      "FileTfRecordsName is ../tfr_images/0016E5_08103.png.tfrecords\n",
      "FileTfRecordsName is ../tfr_images/0001TP_008400.png.tfrecords\n",
      "FileTfRecordsName is ../tfr_images/0006R0_f03630.png.tfrecords\n",
      "FileTfRecordsName is ../tfr_images/0001TP_009330.png.tfrecords\n",
      "FileTfRecordsName is ../tfr_images/Seq05VD_f04530.png.tfrecords\n",
      "FileTfRecordsName is ../tfr_images/0006R0_f02580.png.tfrecords\n",
      "FileTfRecordsName is ../tfr_images/Seq05VD_f00420.png.tfrecords\n",
      "FileTfRecordsName is ../tfr_images/0016E5_01980.png.tfrecords\n",
      "FileTfRecordsName is ../tfr_images/0001TP_010170.png.tfrecords\n",
      "FileTfRecordsName is ../tfr_images/0016E5_07230.png.tfrecords\n",
      "FileTfRecordsName is ../tfr_images/0016E5_05190.png.tfrecords\n",
      "FileTfRecordsName is ../tfr_images/0016E5_06270.png.tfrecords\n",
      "FileTfRecordsName is ../tfr_images/0006R0_f01950.png.tfrecords\n",
      "FileTfRecordsName is ../tfr_images/0016E5_05490.png.tfrecords\n",
      "FileTfRecordsName is ../tfr_images/0016E5_08220.png.tfrecords\n",
      "FileTfRecordsName is ../tfr_images/Seq05VD_f02760.png.tfrecords\n",
      "FileTfRecordsName is ../tfr_images/Seq05VD_f02280.png.tfrecords\n",
      "FileTfRecordsName is ../tfr_images/0016E5_07470.png.tfrecords\n",
      "FileTfRecordsName is ../tfr_images/0001TP_008310.png.tfrecords\n",
      "FileTfRecordsName is ../tfr_images/0001TP_006900.png.tfrecords\n",
      "FileTfRecordsName is ../tfr_images/0001TP_010080.png.tfrecords\n",
      "FileTfRecordsName is ../tfr_images/0016E5_07969.png.tfrecords\n",
      "FileTfRecordsName is ../tfr_images/Seq05VD_f04650.png.tfrecords\n",
      "FileTfRecordsName is ../tfr_images/0016E5_02400.png.tfrecords\n",
      "FileTfRecordsName is ../tfr_images/Seq05VD_f02160.png.tfrecords\n",
      "FileTfRecordsName is ../tfr_images/0016E5_08019.png.tfrecords\n",
      "FileTfRecordsName is ../tfr_images/Seq05VD_f02520.png.tfrecords\n",
      "FileTfRecordsName is ../tfr_images/0006R0_f03210.png.tfrecords\n",
      "FileTfRecordsName is ../tfr_images/0001TP_010110.png.tfrecords\n",
      "FileTfRecordsName is ../tfr_images/0001TP_007140.png.tfrecords\n",
      "FileTfRecordsName is ../tfr_images/0016E5_00600.png.tfrecords\n",
      "FileTfRecordsName is ../tfr_images/0016E5_04500.png.tfrecords\n",
      "FileTfRecordsName is ../tfr_images/Seq05VD_f04500.png.tfrecords\n",
      "FileTfRecordsName is ../tfr_images/0016E5_08113.png.tfrecords\n",
      "FileTfRecordsName is ../tfr_images/0016E5_08041.png.tfrecords\n",
      "FileTfRecordsName is ../tfr_images/Seq05VD_f02070.png.tfrecords\n",
      "FileTfRecordsName is ../tfr_images/0001TP_009300.png.tfrecords\n",
      "FileTfRecordsName is ../tfr_images/0006R0_f01920.png.tfrecords\n",
      "FileTfRecordsName is ../tfr_images/0016E5_02280.png.tfrecords\n",
      "FileTfRecordsName is ../tfr_images/0016E5_08139.png.tfrecords\n",
      "FileTfRecordsName is ../tfr_images/0016E5_07860.png.tfrecords\n",
      "FileTfRecordsName is ../tfr_images/0001TP_007620.png.tfrecords\n",
      "FileTfRecordsName is ../tfr_images/0016E5_08400.png.tfrecords\n",
      "FileTfRecordsName is ../tfr_images/0006R0_f02370.png.tfrecords\n",
      "FileTfRecordsName is ../tfr_images/Seq05VD_f04890.png.tfrecords\n",
      "FileTfRecordsName is ../tfr_images/Seq05VD_f00120.png.tfrecords\n",
      "FileTfRecordsName is ../tfr_images/Seq05VD_f00450.png.tfrecords\n",
      "FileTfRecordsName is ../tfr_images/0016E5_04920.png.tfrecords\n",
      "FileTfRecordsName is ../tfr_images/0016E5_01860.png.tfrecords\n",
      "FileTfRecordsName is ../tfr_images/0016E5_05940.png.tfrecords\n",
      "FileTfRecordsName is ../tfr_images/0006R0_f03420.png.tfrecords\n",
      "FileTfRecordsName is ../tfr_images/0016E5_06450.png.tfrecords\n",
      "FileTfRecordsName is ../tfr_images/0016E5_08055.png.tfrecords\n",
      "FileTfRecordsName is ../tfr_images/0016E5_07020.png.tfrecords\n",
      "FileTfRecordsName is ../tfr_images/0016E5_07350.png.tfrecords\n",
      "FileTfRecordsName is ../tfr_images/0001TP_007980.png.tfrecords\n",
      "FileTfRecordsName is ../tfr_images/0001TP_008640.png.tfrecords\n",
      "FileTfRecordsName is ../tfr_images/Seq05VD_f04980.png.tfrecords\n",
      "FileTfRecordsName is ../tfr_images/Seq05VD_f02910.png.tfrecords\n",
      "FileTfRecordsName is ../tfr_images/0016E5_05160.png.tfrecords\n",
      "FileTfRecordsName is ../tfr_images/Seq05VD_f04230.png.tfrecords\n",
      "FileTfRecordsName is ../tfr_images/0001TP_007290.png.tfrecords\n",
      "FileTfRecordsName is ../tfr_images/0016E5_02370.png.tfrecords\n",
      "FileTfRecordsName is ../tfr_images/0006R0_f02670.png.tfrecords\n",
      "FileTfRecordsName is ../tfr_images/0016E5_05580.png.tfrecords\n",
      "FileTfRecordsName is ../tfr_images/Seq05VD_f00060.png.tfrecords\n",
      "FileTfRecordsName is ../tfr_images/0001TP_007770.png.tfrecords\n",
      "FileTfRecordsName is ../tfr_images/0016E5_04650.png.tfrecords\n",
      "FileTfRecordsName is ../tfr_images/0006R0_f03330.png.tfrecords\n",
      "FileTfRecordsName is ../tfr_images/0016E5_08029.png.tfrecords\n",
      "FileTfRecordsName is ../tfr_images/0016E5_05280.png.tfrecords\n",
      "FileTfRecordsName is ../tfr_images/0006R0_f01380.png.tfrecords\n",
      "FileTfRecordsName is ../tfr_images/Seq05VD_f04020.png.tfrecords\n",
      "FileTfRecordsName is ../tfr_images/0016E5_08430.png.tfrecords\n",
      "FileTfRecordsName is ../tfr_images/0016E5_07380.png.tfrecords\n",
      "FileTfRecordsName is ../tfr_images/Seq05VD_f02700.png.tfrecords\n",
      "FileTfRecordsName is ../tfr_images/Seq05VD_f04080.png.tfrecords\n",
      "FileTfRecordsName is ../tfr_images/0016E5_04380.png.tfrecords\n",
      "FileTfRecordsName is ../tfr_images/0016E5_05640.png.tfrecords\n",
      "FileTfRecordsName is ../tfr_images/0016E5_02010.png.tfrecords\n",
      "FileTfRecordsName is ../tfr_images/0001TP_006720.png.tfrecords\n",
      "FileTfRecordsName is ../tfr_images/0016E5_08147.png.tfrecords\n",
      "FileTfRecordsName is ../tfr_images/0016E5_08250.png.tfrecords\n",
      "FileTfRecordsName is ../tfr_images/0016E5_07830.png.tfrecords\n",
      "FileTfRecordsName is ../tfr_images/0016E5_07680.png.tfrecords\n",
      "FileTfRecordsName is ../tfr_images/0006R0_f01170.png.tfrecords\n",
      "FileTfRecordsName is ../tfr_images/0016E5_04620.png.tfrecords\n",
      "FileTfRecordsName is ../tfr_images/0001TP_008070.png.tfrecords\n",
      "FileTfRecordsName is ../tfr_images/0016E5_04530.png.tfrecords\n",
      "FileTfRecordsName is ../tfr_images/0001TP_007710.png.tfrecords\n",
      "FileTfRecordsName is ../tfr_images/0006R0_f02610.png.tfrecords\n",
      "FileTfRecordsName is ../tfr_images/0016E5_07993.png.tfrecords\n",
      "FileTfRecordsName is ../tfr_images/0016E5_07590.png.tfrecords\n",
      "FileTfRecordsName is ../tfr_images/0001TP_008790.png.tfrecords\n",
      "FileTfRecordsName is ../tfr_images/0016E5_06120.png.tfrecords\n",
      "FileTfRecordsName is ../tfr_images/Seq05VD_f03600.png.tfrecords\n",
      "FileTfRecordsName is ../tfr_images/0016E5_07200.png.tfrecords\n",
      "FileTfRecordsName is ../tfr_images/0006R0_f01890.png.tfrecords\n",
      "FileTfRecordsName is ../tfr_images/0001TP_010260.png.tfrecords\n",
      "FileTfRecordsName is ../tfr_images/0016E5_05460.png.tfrecords\n",
      "FileTfRecordsName is ../tfr_images/0016E5_06480.png.tfrecords\n",
      "FileTfRecordsName is ../tfr_images/0001TP_010200.png.tfrecords\n",
      "FileTfRecordsName is ../tfr_images/0001TP_008100.png.tfrecords\n",
      "FileTfRecordsName is ../tfr_images/0001TP_009390.png.tfrecords\n",
      "FileTfRecordsName is ../tfr_images/Seq05VD_f04440.png.tfrecords\n",
      "FileTfRecordsName is ../tfr_images/0016E5_05790.png.tfrecords\n",
      "FileTfRecordsName is ../tfr_images/0001TP_006870.png.tfrecords\n",
      "FileTfRecordsName is ../tfr_images/Seq05VD_f00930.png.tfrecords\n",
      "FileTfRecordsName is ../tfr_images/0016E5_08115.png.tfrecords\n",
      "FileTfRecordsName is ../tfr_images/Seq05VD_f03120.png.tfrecords\n",
      "FileTfRecordsName is ../tfr_images/0001TP_007200.png.tfrecords\n",
      "FileTfRecordsName is ../tfr_images/0016E5_08071.png.tfrecords\n",
      "FileTfRecordsName is ../tfr_images/0001TP_009900.png.tfrecords\n",
      "FileTfRecordsName is ../tfr_images/Seq05VD_f02190.png.tfrecords\n",
      "FileTfRecordsName is ../tfr_images/0006R0_f00930.png.tfrecords\n",
      "FileTfRecordsName is ../tfr_images/Seq05VD_f02460.png.tfrecords\n",
      "FileTfRecordsName is ../tfr_images/0016E5_07989.png.tfrecords\n",
      "FileTfRecordsName is ../tfr_images/0016E5_07620.png.tfrecords\n",
      "FileTfRecordsName is ../tfr_images/0001TP_010380.png.tfrecords\n",
      "FileTfRecordsName is ../tfr_images/0016E5_01230.png.tfrecords\n",
      "FileTfRecor