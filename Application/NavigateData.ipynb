{
 "cells": [
  {
   "cell_type": "code",
   "execution_count": 1,
   "metadata": {
    "collapsed": true
   },
   "outputs": [],
   "source": [
    "import tensorflow as tf"
   ]
  },
  {
   "cell_type": "code",
   "execution_count": null,
   "metadata": {
    "collapsed": true
   },
   "outputs": [],
   "source": [
    "import os\n",
    "import sys\n",
    "import threading\n",
    "\n",
    "import numpy as np\n",
    "from PIL import Image"
   ]
  },
  {
   "cell_type": "code",
   "execution_count": null,
   "metadata": {
    "collapsed": true
   },
   "outputs": [],
   "source": [
    "from matplotlib import pyplot as plt\n",
    "%matplotlib notebook"
   ]
  },
  {
   "cell_type": "code",
   "execution_count": null,
   "metadata": {
    "collapsed": true
   },
   "outputs": [],
   "source": [
    "from __future__ import print_function\n",
    "from __future__ import division\n",
    "from __future__ import absolute_import"
   ]
  },
  {
   "cell_type": "code",
   "execution_count": null,
   "metadata": {
    "collapsed": true
   },
   "outputs": [],
   "source": [
    "BASE_DIR = os.path.abspath(os.path.dirname(sys.argv[1]))"
   ]
  },
  {
   "cell_type": "code",
   "execution_count": null,
   "metadata": {
    "collapsed": true
   },
   "outputs": [],
   "source": [
    "BASE_DIR"
   ]
  },
  {
   "cell_type": "code",
   "execution_count": null,
   "metadata": {
    "collapsed": true
   },
   "outputs": [],
   "source": [
    "def isImageFile(filePath):\n",
    "    basename_ext = os.path.splitext(filePath)\n",
    "    ext= basename_ext[1]\n",
    "    ext = ext.lower()\n",
    "    if ext=='.bmp': \n",
    "        return True\n",
    "    if ext=='.png': \n",
    "        return True\n",
    "    if ext=='.jpg': \n",
    "        return True\n",
    "    return False"
   ]
  },
  {
   "cell_type": "code",
   "execution_count": null,
   "metadata": {
    "collapsed": true
   },
   "outputs": [],
   "source": [
    "def filter_for_images(fileList):\n",
    "    image_list = []\n",
    "    for i in range(len(fileList)):\n",
    "        fileName = fileList[i]\n",
    "        if isImageFile(fileName):\n",
    "            image_list.append(fileName)\n",
    "    return image_list"
   ]
  },
  {
   "cell_type": "code",
   "execution_count": null,
   "metadata": {
    "collapsed": true
   },
   "outputs": [],
   "source": [
    "def find_all_images(dir_path = './'):\n",
    "    ls_files = os.listdir(dir_path)\n",
    "    print(\"There are %d files found in total.\"%len(ls_files))\n",
    "    image_list = filter_for_images(ls_files)\n",
    "    print(\"And %d image files are found.\"%len(image_list))\n",
    "    for i in range(len(image_list)):\n",
    "        image_list[i] =os.path.join(dir_path,image_list[i])\n",
    "    return image_list"
   ]
  },
  {
   "cell_type": "code",
   "execution_count": null,
   "metadata": {
    "collapsed": true
   },
   "outputs": [],
   "source": [
    "def getBaseNames(fileList):\n",
    "    fileBaseNames=[]\n",
    "    for i in range(len(fileList)):\n",
    "        fileName = fileList[i]\n",
    "        fileBaseNames.append(os.path.splitext(os.path.basename(fileName))[0])\n",
    "    return fileBaseNames"
   ]
  },
  {
   "cell_type": "code",
   "execution_count": null,
   "metadata": {
    "collapsed": true
   },
   "outputs": [],
   "source": [
    "def filter_CamVid_ImagePair(imgList,lblList):\n",
    "    outImgList=[]\n",
    "    outLblList=[]\n",
    "    imgBaseNames = getBaseNames(imgList)\n",
    "    lblBaseNames = getBaseNames(lblList)\n",
    "    for i in range(len(imgBaseNames)):\n",
    "        filename = imgBaseNames[i]\n",
    "        supposedName = filename+\"_L\"\n",
    "        if supposedName in lblBaseNames:\n",
    "            j=lblBaseNames.index(supposedName) \n",
    "            outImgList.append(imgList[i])\n",
    "            outLblList.append(lblList[j])\n",
    "    return (outImgList,outLblList)"
   ]
  },
  {
   "cell_type": "code",
   "execution_count": null,
   "metadata": {
    "collapsed": true
   },
   "outputs": [],
   "source": [
    "imgList = find_all_images(\"../701_StillsRaw_full\")\n",
    "lblList = find_all_images(\"../LabeledApproved_full\")"
   ]
  },
  {
   "cell_type": "code",
   "execution_count": null,
   "metadata": {
    "collapsed": true
   },
   "outputs": [],
   "source": [
    "baseNames = getBaseNames(imgList)"
   ]
  },
  {
   "cell_type": "code",
   "execution_count": null,
   "metadata": {
    "collapsed": true
   },
   "outputs": [],
   "source": [
    "outImgList,outLblList = filter_CamVid_ImagePair(imgList,lblList)"
   ]
  },
  {
   "cell_type": "code",
   "execution_count": null,
   "metadata": {
    "collapsed": true
   },
   "outputs": [],
   "source": [
    "print(outImgList[0],outLblList[0])"
   ]
  },
  {
   "cell_type": "code",
   "execution_count": null,
   "metadata": {
    "collapsed": true
   },
   "outputs": [],
   "source": [
    "def pase_Label_File(filePath):\n",
    "    f = open(filePath,mode='r')\n",
    "    lines = f.readlines()\n",
    "    label_items=[]\n",
    "    for i in range(len(lines)):\n",
    "        item = lines[i]\n",
    "        item = item.split()\n",
    "        r = np.uint8(item[0])\n",
    "        g = np.uint8(item[1])\n",
    "        b = np.uint8(item[2])\n",
    "        name = (item[3])\n",
    "        print((r,g,b,name))\n",
    "        label_items.append((r,g,b,name))\n",
    "    f.close()\n",
    "    return label_items"
   ]
  },
  {
   "cell_type": "code",
   "execution_count": null,
   "metadata": {
    "collapsed": true
   },
   "outputs": [],
   "source": [
    "def readLabelTxt(filePath):\n",
    "    basename_ext = os.path.splitext(filePath)\n",
    "    ext = basename_ext[1].lower()\n",
    "    label_items = None\n",
    "    if ext!='.txt':\n",
    "        raise ValueError('This is not txt file')\n",
    "    else:\n",
    "        label_items = pase_Label_File(filePath)\n",
    "    return label_items  "
   ]
  },
  {
   "cell_type": "code",
   "execution_count": null,
   "metadata": {
    "collapsed": true
   },
   "outputs": [],
   "source": [
    "label_items = readLabelTxt('../label_colors.txt')"
   ]
  },
  {
   "cell_type": "code",
   "execution_count": null,
   "metadata": {
    "collapsed": true
   },
   "outputs": [],
   "source": [
    "def findLabelColorofName(label_items,name):\n",
    "    for i in range(len(label_items)):\n",
    "        item = label_items[i]\n",
    "        if(item[3]==name): return (item[0],item[1],item[2])\n",
    "    return None"
   ]
  },
  {
   "cell_type": "code",
   "execution_count": null,
   "metadata": {
    "collapsed": true
   },
   "outputs": [],
   "source": [
    "def findLabelNameofColor(label_items,color):\n",
    "    for i in range(len(label_items)):\n",
    "        item = label_items[i]\n",
    "        if((item[0],item[1],item[2])==color or [item[0],item[1],item[2]]==color): return item[3]\n",
    "    return None"
   ]
  },
  {
   "cell_type": "code",
   "execution_count": null,
   "metadata": {
    "collapsed": true
   },
   "outputs": [],
   "source": [
    "findLabelColorofName(label_items,'VegetationMisc')"
   ]
  },
  {
   "cell_type": "code",
   "execution_count": null,
   "metadata": {
    "collapsed": true
   },
   "outputs": [],
   "source": [
    "findLabelNameofColor(label_items,[0, 64, 64])"
   ]
  },
  {
   "cell_type": "code",
   "execution_count": null,
   "metadata": {
    "collapsed": true
   },
   "outputs": [],
   "source": []
  },
  {
   "cell_type": "markdown",
   "metadata": {},
   "source": [
    "# Write TFRecords"
   ]
  },
  {
   "cell_type": "code",
   "execution_count": null,
   "metadata": {
    "collapsed": true
   },
   "outputs": [],
   "source": [
    "def _int64_feature(value):\n",
    "    return tf.train.Feature(int64_list=tf.train.Int64List(value=[value]))\n",
    "def _bytes_feature(value):\n",
    "    return tf.train.Feature(bytes_list=tf.train.BytesList(value=[value]))"
   ]
  },
  {
   "cell_type": "code",
   "execution_count": null,
   "metadata": {
    "collapsed": true
   },
   "outputs": [],
   "source": [
    "def convertDataToTFRecord(imagePath,tfrecoredPath):\n",
    "    with tf.python_io.TFRecordWriter(tfrecoredPath) as writer:\n",
    "            im = Image.open(imagePath)\n",
    "            fim = np.array(im).astype(np.float32)\n",
    "            #shape = np.array(np.shape(im)).astype(np.int64)\n",
    "            shape = np.array(np.shape(im)).astype(np.float32)\n",
    "            feature={'shape':_bytes_feature(tf.compat.as_bytes(shape.tostring())),\n",
    "                     'train/image':_bytes_feature(tf.compat.as_bytes(fim.tostring()))}\n",
    "            example = tf.train.Example(features=tf.train.Features(feature=feature))\n",
    "            writer.write(example.SerializeToString())"
   ]
  },
  {
   "cell_type": "raw",
   "metadata": {},
   "source": [
    "def convertImageToTFRecord(ImageFileList,outPutDir):\n",
    "    if not os.path.isdir(outPutDir):\n",
    "        raise ValueError(\"The ouput directory does not exist!\")\n",
    "   \n",
    "    file_num_count =0\n",
    "    for i in range(len(ImageFileList)):\n",
    "        FileName =ImageFileList[i]\n",
    "        FileBaseName = os.path.basename(FileName)\n",
    "        FileTfRecordsName = os.path.join(outPutDir,FileBaseName+\".tfrecords\") \n",
    "        print('FileTfRecordsName is %s'%FileTfRecordsName)\n",
    "        convertDataToTFRecord(FileName,FileTfRecordsName)\n",
    "        file_num_count+=1\n",
    "    print(\"%d files in total are converted\"%file_num_count)"
   ]
  },
  {
   "cell_type": "code",
   "execution_count": null,
   "metadata": {
    "collapsed": true
   },
   "outputs": [],
   "source": [
    "def convertImageToTFRecords(input_dir_path,output_dir_path):\n",
    "    print(\"Input Directory is : %s\"%input_dir_path)\n",
    "    print(\"Output Directory is : %s\"%output_dir_path)\n",
    "    imgList = find_all_images(input_dir_path)\n",
    "    convertImageToTFRecord(imgList,output_dir_path)\n",
    "    print(\"Conversion Done.\")"
   ]
  },
  {
   "cell_type": "code",
   "execution_count": null,
   "metadata": {
    "collapsed": true
   },
   "outputs": [],
   "source": [
    "convertImageToTFRecords(\"../test\",\"../test\")"
   ]
  },
  {
   "cell_type": "code",
   "execution_count": null,
   "metadata": {
    "collapsed": true
   },
   "outputs": [],
   "source": [
    "convertImageToTFRecords(\"../701_StillsRaw_full\",\"../tfr_images\")"
   ]
  },
  {
   "cell_type": "code",
   "execution_count": null,
   "metadata": {
    "collapsed": true
   },
   "outputs": [],
   "source": [
    "convertImageToTFRecords(\"../LabeledApproved_full\",\"../tft_labels\")"
   ]
  },
  {
   "cell_type": "markdown",
   "metadata": {},
   "source": [
    "# Read TFRecords"
   ]
  },
  {
   "cell_type": "code",
   "execution_count": null,
   "metadata": {
    "collapsed": true
   },
   "outputs": [],
   "source": [
    "def readDatafromTFRecord(sess,tfrecoredPath):\n",
    "    feature={'shape':tf.FixedLenFeature([],tf.string),\n",
    "             'train/image':tf.FixedLenFeature([],tf.string)}\n",
    "    filename_queue = tf.train.string_input_producer([tfrecoredPath],num_epochs=1)\n",
    "    reader = tf.TFRecordReader()\n",
    "    _,serialized_example =reader.read(filename_queue)\n",
    "    features = tf.parse_single_example(serialized_example,features=feature)\n",
    "    image = tf.decode_raw(features['train/image'],tf.float32)\n",
    "    shape = tf.cast(tf.decode_raw(features['shape'],tf.float32),tf.int32)\n",
    "    image = tf.reshape(image,shape)\n",
    "    \n",
    "    init_op = tf.group(tf.global_variables_initializer(), tf.local_variables_initializer())\n",
    "    sess.run(init_op)\n",
    "    # Create a coordinator and run all QueueRunner objects\n",
    "    coord = tf.train.Coordinator()\n",
    "    threads = tf.train.start_queue_runners(coord=coord)\n",
    "\n",
    "    img ,val_shape= sess.run([image,shape])\n",
    "    print(val_shape)\n",
    "    img = img.astype(np.uint8)\n",
    "    plt.imshow(img)\n",
    "    plt.show()\n",
    "    # Stop the threads\n",
    "    coord.request_stop()\n",
    "    # Wait for threads to stop\n",
    "    \n",
    "    coord.join(threads)\n",
    "    "
   ]
  },
  {
   "cell_type": "code",
   "execution_count": null,
   "metadata": {
    "collapsed": true
   },
   "outputs": [],
   "source": [
    "with tf.Session() as sess:\n",
    "    readDatafromTFRecord(sess,'/home/yelyu/Work/Dataset/CamVid/test/0001TP_006690.png.tfrecords')"
   ]
  },
  {
   "cell_type": "markdown",
   "metadata": {
    "collapsed": true
   },
   "source": [
    "# Read Image directly"
   ]
  },
  {
   "cell_type": "markdown",
   "metadata": {},
   "source": [
    "# Test My Module"
   ]
  },
  {
   "cell_type": "code",
   "execution_count": 1,
   "metadata": {
    "collapsed": true
   },
   "outputs": [],
   "source": [
    "import imp\n",
    "import ImageReader\n",
    "imp.reload(ImageReader)\n",
    "from ImageReader import BatchDataReader\n",
    "from matplotlib import pyplot as plt\n",
    "import numpy as np\n",
    "import tensorflow as tf\n",
    "%matplotlib notebook"
   ]
  },
  {
   "cell_type": "code",
   "execution_count": 2,
   "metadata": {},
   "outputs": [
    {
     "name": "stdout",
     "output_type": "stream",
     "text": [
      "Initializing Batch Dataset Reader...\n",
      "Looking for images files...\n",
      "There are 701 files found in total.\n",
      "in which, 701 image files are found.\n",
      "Looking for label files...\n",
      "There are 701 files found in total.\n",
      "in which, 701 image files are found.\n",
      "Filtering for image correct label pairs...\n",
      "There are 701 image pairs in total\n",
      "Parsing txt file for labels...\n",
      "There are 32 classes in total\n"
     ]
    }
   ],
   "source": [
    "trainingParams = ImageReader.TrainingParams()\n",
    "trainingParams.set_batchSize(10)\n",
    "trainingParams.set_epochs(2)\n",
    "trainingParams.set_lr(1.0)\n",
    "trainingParams.set_UseRandomShuffle(True)\n",
    "dataPairListGetter = ImageReader.getCamVidDataPairsList\n",
    "reader = BatchDataReader(\"../701_StillsRaw_full\",\"../LabeledApproved_full\",\n",
    "                         '../label_colors.txt',dataPairListGetter,\n",
    "                         trainingParams)\n",
    "reader.begin_epoch()"
   ]
  },
  {
   "cell_type": "code",
   "execution_count": 3,
   "metadata": {},
   "outputs": [
    {
     "name": "stdout",
     "output_type": "stream",
     "text": [
      "sample 0\n",
      "sample 1\n",
      "sample 2\n",
      "sample 3\n",
      "sample 4\n",
      "sample 5\n",
      "sample 6\n"
     ]
    },
    {
     "ename": "KeyboardInterrupt",
     "evalue": "",
     "output_type": "error",
     "traceback": [
      "\u001b[0;31m---------------------------------------------------------------------------\u001b[0m",
      "\u001b[0;31mKeyboardInterrupt\u001b[0m                         Traceback (most recent call last)",
      "\u001b[0;32m<ipython-input-3-7145fe66ffa9>\u001b[0m in \u001b[0;36m<module>\u001b[0;34m()\u001b[0m\n\u001b[0;32m----> 1\u001b[0;31m \u001b[0;34m(\u001b[0m\u001b[0mbatch_img\u001b[0m\u001b[0;34m,\u001b[0m\u001b[0mbatch_lbl\u001b[0m\u001b[0;34m)\u001b[0m \u001b[0;34m=\u001b[0m \u001b[0mreader\u001b[0m\u001b[0;34m.\u001b[0m\u001b[0mnext_batch\u001b[0m\u001b[0;34m(\u001b[0m\u001b[0;34m)\u001b[0m\u001b[0;34m\u001b[0m\u001b[0m\n\u001b[0m",
      "\u001b[0;32m/home/yelyu/Work/Dataset/CamVid/Application/ImageReader.py\u001b[0m in \u001b[0;36mnext_batch\u001b[0;34m(self)\u001b[0m\n\u001b[1;32m    239\u001b[0m             \u001b[0mprint\u001b[0m\u001b[0;34m(\u001b[0m\u001b[0;34m\"sample %d\"\u001b[0m\u001b[0;34m%\u001b[0m\u001b[0mi\u001b[0m\u001b[0;34m)\u001b[0m\u001b[0;34m\u001b[0m\u001b[0m\n\u001b[1;32m    240\u001b[0m             \u001b[0mimg\u001b[0m\u001b[0;34m,\u001b[0m\u001b[0mlbl\u001b[0m \u001b[0;34m=\u001b[0m \u001b[0mgetImgLblDataPair\u001b[0m\u001b[0;34m(\u001b[0m\u001b[0mself\u001b[0m\u001b[0;34m.\u001b[0m\u001b[0m_ImgList\u001b[0m\u001b[0;34m,\u001b[0m\u001b[0mself\u001b[0m\u001b[0;34m.\u001b[0m\u001b[0m_LblList\u001b[0m\u001b[0;34m,\u001b[0m\u001b[0mself\u001b[0m\u001b[0;34m.\u001b[0m\u001b[0m_indexListForReader\u001b[0m\u001b[0;34m[\u001b[0m\u001b[0mi\u001b[0m\u001b[0;34m]\u001b[0m\u001b[0;34m)\u001b[0m\u001b[0;34m\u001b[0m\u001b[0m\n\u001b[0;32m--> 241\u001b[0;31m             \u001b[0mimg\u001b[0m\u001b[0;34m,\u001b[0m\u001b[0mlbl\u001b[0m \u001b[0;34m=\u001b[0m \u001b[0mtransformImgPairsToTrainableType\u001b[0m\u001b[0;34m(\u001b[0m\u001b[0mimg\u001b[0m\u001b[0;34m,\u001b[0m\u001b[0mlbl\u001b[0m\u001b[0;34m,\u001b[0m\u001b[0mself\u001b[0m\u001b[0;34m.\u001b[0m\u001b[0m_colorList\u001b[0m\u001b[0;34m)\u001b[0m\u001b[0;34m\u001b[0m\u001b[0m\n\u001b[0m\u001b[1;32m    242\u001b[0m             \u001b[0mbatch_img\u001b[0m\u001b[0;34m.\u001b[0m\u001b[0mappend\u001b[0m\u001b[0;34m(\u001b[0m\u001b[0mimg\u001b[0m\u001b[0;34m)\u001b[0m\u001b[0;34m\u001b[0m\u001b[0m\n\u001b[1;32m    243\u001b[0m             \u001b[0mbatch_lbl\u001b[0m\u001b[0;34m.\u001b[0m\u001b[0mappend\u001b[0m\u001b[0;34m(\u001b[0m\u001b[0mlbl\u001b[0m\u001b[0;34m)\u001b[0m\u001b[0;34m\u001b[0m\u001b[0m\n",
      "\u001b[0;32m/home/yelyu/Work/Dataset/CamVid/Application/ImageReader.py\u001b[0m in \u001b[0;36mtransformImgPairsToTrainableType\u001b[0;34m(Img, Lbl, colorList)\u001b[0m\n\u001b[1;32m    137\u001b[0m \u001b[0;32mdef\u001b[0m \u001b[0mtransformImgPairsToTrainableType\u001b[0m\u001b[0;34m(\u001b[0m\u001b[0mImg\u001b[0m\u001b[0;34m,\u001b[0m\u001b[0mLbl\u001b[0m\u001b[0;34m,\u001b[0m\u001b[0mcolorList\u001b[0m\u001b[0;34m)\u001b[0m\u001b[0;34m:\u001b[0m\u001b[0;34m\u001b[0m\u001b[0m\n\u001b[1;32m    138\u001b[0m     \u001b[0moutImg\u001b[0m \u001b[0;34m=\u001b[0m \u001b[0mImg\u001b[0m\u001b[0;34m.\u001b[0m\u001b[0mastype\u001b[0m\u001b[0;34m(\u001b[0m\u001b[0mnp\u001b[0m\u001b[0;34m.\u001b[0m\u001b[0mfloat32\u001b[0m\u001b[0;34m)\u001b[0m\u001b[0;34m\u001b[0m\u001b[0m\n\u001b[0;32m--> 139\u001b[0;31m     \u001b[0moutLbl\u001b[0m \u001b[0;34m=\u001b[0m \u001b[0mtransformLblImage\u001b[0m\u001b[0;34m(\u001b[0m\u001b[0mLbl\u001b[0m\u001b[0;34m,\u001b[0m\u001b[0mcolorList\u001b[0m\u001b[0;34m)\u001b[0m\u001b[0;34m\u001b[0m\u001b[0m\n\u001b[0m\u001b[1;32m    140\u001b[0m     \u001b[0;32mreturn\u001b[0m \u001b[0moutImg\u001b[0m\u001b[0;34m,\u001b[0m\u001b[0moutLbl\u001b[0m\u001b[0;34m\u001b[0m\u001b[0m\n\u001b[1;32m    141\u001b[0m \u001b[0;34m\u001b[0m\u001b[0m\n",
      "\u001b[0;32m/home/yelyu/Work/Dataset/CamVid/Application/ImageReader.py\u001b[0m in \u001b[0;36mtransformLblImage\u001b[0;34m(LBLImg, colorList)\u001b[0m\n\u001b[1;32m    128\u001b[0m     \u001b[0;32mfor\u001b[0m \u001b[0mi\u001b[0m \u001b[0;32min\u001b[0m \u001b[0mrange\u001b[0m\u001b[0;34m(\u001b[0m\u001b[0mheight\u001b[0m\u001b[0;34m)\u001b[0m\u001b[0;34m:\u001b[0m\u001b[0;34m\u001b[0m\u001b[0m\n\u001b[1;32m    129\u001b[0m         \u001b[0;32mfor\u001b[0m \u001b[0mj\u001b[0m \u001b[0;32min\u001b[0m \u001b[0mrange\u001b[0m\u001b[0;34m(\u001b[0m\u001b[0mwidth\u001b[0m\u001b[0;34m)\u001b[0m\u001b[0;34m:\u001b[0m\u001b[0;34m\u001b[0m\u001b[0m\n\u001b[0;32m--> 130\u001b[0;31m             \u001b[0mval\u001b[0m \u001b[0;34m=\u001b[0m \u001b[0mtuple\u001b[0m\u001b[0;34m(\u001b[0m\u001b[0mLBLImg\u001b[0m\u001b[0;34m[\u001b[0m\u001b[0mi\u001b[0m\u001b[0;34m]\u001b[0m\u001b[0;34m[\u001b[0m\u001b[0mj\u001b[0m\u001b[0;34m]\u001b[0m\u001b[0;34m)\u001b[0m\u001b[0;34m\u001b[0m\u001b[0m\n\u001b[0m\u001b[1;32m    131\u001b[0m             \u001b[0;32mif\u001b[0m \u001b[0;34m(\u001b[0m\u001b[0mval\u001b[0m \u001b[0;32min\u001b[0m \u001b[0mcolorList\u001b[0m\u001b[0;34m)\u001b[0m\u001b[0;34m:\u001b[0m\u001b[0;34m\u001b[0m\u001b[0m\n\u001b[1;32m    132\u001b[0m                 \u001b[0moutPutLbl\u001b[0m\u001b[0;34m[\u001b[0m\u001b[0mi\u001b[0m\u001b[0;34m]\u001b[0m\u001b[0;34m[\u001b[0m\u001b[0mj\u001b[0m\u001b[0;34m]\u001b[0m \u001b[0;34m=\u001b[0m \u001b[0mcolorList\u001b[0m\u001b[0;34m.\u001b[0m\u001b[0mindex\u001b[0m\u001b[0;34m(\u001b[0m\u001b[0mval\u001b[0m\u001b[0;34m)\u001b[0m\u001b[0;34m\u001b[0m\u001b[0m\n",
      "\u001b[0;31mKeyboardInterrupt\u001b[0m: "
     ]
    }
   ],
   "source": [
    "(batch_img,batch_lbl) = reader.next_batch()"
   ]
  },
  {
   "cell_type": "code",
   "execution_count": null,
   "metadata": {
    "scrolled": true
   },
   "outputs": [],
   "source": [
    "reader.show_batch_image_pair(batch_img,batch_lbl,np.arange(4,8))"
   ]
  },
  {
   "cell_type": "markdown",
   "metadata": {},
   "source": [
    "# Construct FCN"
   ]
  },
  {
   "cell_type": "code",
   "execution_count": 1,
   "metadata": {
    "collapsed": true
   },
   "outputs": [],
   "source": [
    "import imp\n",
    "import ImageReader\n",
    "imp.reload(ImageReader)\n",
    "from ImageReader import BatchDataReader\n",
    "from matplotlib import pyplot as plt\n",
    "import numpy as np\n",
    "import tensorflow as tf\n",
    "%matplotlib notebook"
   ]
  },
  {
   "cell_type": "code",
   "execution_count": 2,
   "metadata": {},
   "outputs": [],
   "source": [
    "FLAGS = tf.flags.FLAGS\n",
    "tf.flags.DEFINE_integer(\"batch_size\",\"4\",\"batch size for training\")\n",
    "tf.flags.DEFINE_integer(\"epoch\",\"200\",\"training epochs\")\n",
    "tf.flags.DEFINE_string(\"logs_dir\", \"logs/\", \"path to logs directory\")\n",
    "tf.flags.DEFINE_string(\"saver_dir\",\"saver/\",\"path to saver directory\");\n",
    "tf.flags.DEFINE_float(\"learning_rate\", \"1e-4\", \"Learning rate for Adam Optimizer\")\n",
    "tf.flags.DEFINE_string('mode', \"train\", \"Mode train/ test/ visualize\")\n",
    "tf.flags.DEFINE_string(\"Img_dir\", \"../701_StillsRaw_full\", \"path to images\")\n",
    "tf.flags.DEFINE_string(\"Lbl_dir\", \"../LabeledApproved_full\", \"path to labels\")\n",
    "tf.flags.DEFINE_string(\"Txt_dir\",'../label_colors.txt',\"label color txt\")"
   ]
  },
  {
   "cell_type": "code",
   "execution_count": 3,
   "metadata": {},
   "outputs": [],
   "source": [
    "def max_pool_2x2(x):\n",
    "    return tf.nn.max_pool(value=x, ksize=[1, 2, 2, 1],\n",
    "                        strides=[1, 2, 2, 1], padding='SAME')\n",
    "\n",
    "def weight_variable(shape,name=None):\n",
    "    initial = None\n",
    "    if name is None:\n",
    "        initial = tf.truncated_normal(shape=shape, stddev=0.1)\n",
    "    else:\n",
    "        initial = tf.truncated_normal(shape = shape,name=name, stddev=0.1)\n",
    "    return tf.Variable(initial)\n",
    "\n",
    "def bias_variable(shape,name=None):\n",
    "    initial = None\n",
    "    if name is None:\n",
    "        initial = tf.constant(0.0, shape=shape)\n",
    "    else:\n",
    "        initial = tf.constant(0.0,name=name, shape=shape)\n",
    "    return tf.Variable(initial)\n",
    "\n",
    "def conv_layer(inputTensor,num_input_channels,num_filters,filter_size\n",
    "               ,stride_size,padding='SAME',useBias=True):\n",
    "    shape = [filter_size,filter_size,num_input_channels,num_filters]\n",
    "    weights = weight_variable(shape)\n",
    "    conv = tf.nn.conv2d(input=inputTensor,filter=weights,strides=[1,stride_size,stride_size,1],\n",
    "                padding=padding)\n",
    "    if useBias:\n",
    "        biases = bias_variable(shape=[num_filters])\n",
    "        conv=conv+biases\n",
    "        return conv,weights,biases\n",
    "    else:\n",
    "        return conv,weights\n",
    "\n",
    "def deconv_layer(inputTensor,outputShape,num_input_channels,num_filters,filter_size\n",
    "               ,stride_size,padding='SAME',useBias=True):\n",
    "    shape = [filter_size,filter_size,num_input_channels,num_filters]\n",
    "    weights = weight_variable(shape)\n",
    "    \n",
    "    conv = tf.nn.conv2d_transpose(value=inputTensor,filter=weights,output_shape=outputShape,strides=[1,stride_size,stride_size,1],\n",
    "                padding=padding)\n",
    "    if useBias:\n",
    "        biases = bias_variable(shape=[num_filters])\n",
    "        conv=conv+biases\n",
    "        return conv,weights,biases\n",
    "    else:\n",
    "        return conv,weights\n",
    "    "
   ]
  },
  {
   "cell_type": "code",
   "execution_count": 4,
   "metadata": {},
   "outputs": [],
   "source": [
    "def fcn():\n",
    "    layers = (\n",
    "        'conv1','relu1','pool1','norm1','conv1','relu1','pool2','norm2','conv3',\n",
    "        'relu3','conv4','relu4','conv5','relu5','pool5','fc6','relu6','drop6','fc7',\n",
    "        'relu7','drop7','score_fr','upscore','score'\n",
    "    )\n",
    "    net={}\n",
    "\n",
    "    _Img = tf.placeholder(dtype=tf.float32)\n",
    "    _Lbl = tf.placeholder(dtype=tf.int32)\n",
    "    _keep_probability = tf.placeholder(dtype=tf.float32)\n",
    "    Lbl = tf.expand_dims(_Lbl,axis=3)\n",
    "    Img = _Img-128.0/128.0\n",
    "    #conv1\n",
    "    input_channels = 3;output_channels = 64\n",
    "    #with tf.VariableScope(\"Conv1\")\n",
    "    conv1_1,weight1,bias1 = conv_layer(inputTensor=Img,num_input_channels=input_channels,\n",
    "                                      num_filters=output_channels,filter_size=3,\n",
    "                                      stride_size=1,padding='SAME')\n",
    "    relu1_1 = tf.nn.relu(conv1_1)\n",
    "    conv1_2,weight2,bias2 = conv_layer(inputTensor=relu1_1,num_input_channels=output_channels,\n",
    "                                     num_filters=output_channels,filter_size=3,\n",
    "                                     stride_size=1,padding='SAME')\n",
    "    relu1_2 = tf.nn.relu(conv1_2)\n",
    "    #pool1\n",
    "    pool1 = max_pool_2x2(relu1_2)\n",
    "    #######################################################################################\n",
    "    #conv2\n",
    "    input_channels = 64;output_channels = 128\n",
    "    #with tf.VariableScope(\"Conv2\")\n",
    "    conv2_1,weight1,bias1 = conv_layer(inputTensor=pool1,num_input_channels=input_channels,\n",
    "                                      num_filters=output_channels,filter_size=3,\n",
    "                                      stride_size=1,padding='SAME')\n",
    "    relu2_1 = tf.nn.relu(conv2_1)\n",
    "    conv2_2,weight2,bias2 = conv_layer(inputTensor=relu2_1,num_input_channels=output_channels,\n",
    "                                     num_filters=output_channels,filter_size=3,\n",
    "                                     stride_size=1,padding='SAME')\n",
    "    relu2_2 = tf.nn.relu(conv2_2)\n",
    "    #pool2\n",
    "    pool2 = max_pool_2x2(relu2_2)\n",
    "    #######################################################################################\n",
    "    #conv3\n",
    "    input_channels = 128;output_channels = 256\n",
    "    #with tf.VariableScope(\"Conv3\")\n",
    "    conv3_1,weight1,bias1 = conv_layer(inputTensor=pool2,num_input_channels=input_channels,\n",
    "                                      num_filters=output_channels,filter_size=3,\n",
    "                                      stride_size=1,padding='SAME')\n",
    "    relu3_1 = tf.nn.relu(conv3_1)\n",
    "    conv3_2,weight2,bias2 = conv_layer(inputTensor=relu3_1,num_input_channels=output_channels,\n",
    "                                     num_filters=output_channels,filter_size=3,\n",
    "                                     stride_size=1,padding='SAME')\n",
    "    relu3_2 = tf.nn.relu(conv3_2)\n",
    "    conv3_3,weight3,bias3 = conv_layer(inputTensor=relu3_2,num_input_channels=output_channels,\n",
    "                                     num_filters=output_channels,filter_size=3,\n",
    "                                     stride_size=1,padding='SAME')\n",
    "    relu3_3 = tf.nn.relu(conv3_3)\n",
    "    #pool3\n",
    "    pool3 = max_pool_2x2(relu3_3)\n",
    "    #######################################################################################\n",
    "    #conv4\n",
    "    input_channels = 256;output_channels = 512\n",
    "    #with tf.VariableScope(\"Conv4\")\n",
    "    conv4_1,weight1,bias1 = conv_layer(inputTensor=pool3,num_input_channels=input_channels,\n",
    "                                      num_filters=output_channels,filter_size=3,\n",
    "                                      stride_size=1,padding='SAME')\n",
    "    relu4_1 = tf.nn.relu(conv4_1)\n",
    "    conv4_2,weight2,bias2 = conv_layer(inputTensor=relu4_1,num_input_channels=output_channels,\n",
    "                                     num_filters=output_channels,filter_size=3,\n",
    "                                     stride_size=1,padding='SAME')\n",
    "    relu4_2 = tf.nn.relu(conv4_2)\n",
    "    conv4_3,weight3,bias3 = conv_layer(inputTensor=relu4_2,num_input_channels=output_channels,\n",
    "                                     num_filters=output_channels,filter_size=3,\n",
    "                                     stride_size=1,padding='SAME')\n",
    "    relu4_3 = tf.nn.relu(conv4_3)\n",
    "    #pool4\n",
    "    pool4 = max_pool_2x2(relu4_3)\n",
    "    #######################################################################################\n",
    "    #conv5\n",
    "    input_channels = 512;output_channels = 512\n",
    "    #with tf.VariableScope(\"Conv5\")\n",
    "    conv5_1,weight1,bias1 = conv_layer(inputTensor=pool4,num_input_channels=input_channels,\n",
    "                                      num_filters=output_channels,filter_size=3,\n",
    "                                      stride_size=1,padding='SAME')\n",
    "    relu5_1 = tf.nn.relu(conv5_1)\n",
    "    conv5_2,weight2,bias2 = conv_layer(inputTensor=relu5_1,num_input_channels=output_channels,\n",
    "                                     num_filters=output_channels,filter_size=3,\n",
    "                                     stride_size=1,padding='SAME')\n",
    "    relu5_2 = tf.nn.relu(conv5_2)\n",
    "    conv5_3,weight3,bias3 = conv_layer(inputTensor=relu5_2,num_input_channels=output_channels,\n",
    "                                     num_filters=output_channels,filter_size=3,\n",
    "                                     stride_size=1,padding='SAME')\n",
    "    relu5_3 = tf.nn.relu(conv5_3)\n",
    "    #pool4\n",
    "    pool5 = max_pool_2x2(relu5_3)\n",
    "    #######################################################################################\n",
    "    #fc6\n",
    "    input_channels = 512;output_channels = 4096\n",
    "    #with tf.VariableScope(\"fc6\")\n",
    "    fc6,weight1,bias1 = conv_layer(inputTensor=pool5,num_input_channels=input_channels,\n",
    "                                      num_filters=output_channels,filter_size=7,\n",
    "                                      stride_size=1,padding='SAME')\n",
    "    relu6 = tf.nn.relu(fc6)\n",
    "    #dropout6\n",
    "    drop6 = tf.nn.dropout(relu6,keep_prob=_keep_probability)\n",
    "    #######################################################################################\n",
    "    #fc7\n",
    "    input_channels = 4096;output_channels = 4096\n",
    "    #with tf.VariableScope(\"fc7\")\n",
    "    fc7,weight1,bias1 = conv_layer(inputTensor=drop6,num_input_channels=input_channels,\n",
    "                                      num_filters=output_channels,filter_size=1,\n",
    "                                      stride_size=1,padding='SAME')\n",
    "    relu7 = tf.nn.relu(fc7)\n",
    "    #dropout6\n",
    "    drop7 = tf.nn.dropout(relu7,keep_prob=_keep_probability)\n",
    "    #######################################################################################\n",
    "    #score_fr\n",
    "    input_channels = 4096;output_channels = 32\n",
    "    score_fr,weight1,bias1 = conv_layer(inputTensor=drop7,num_input_channels=input_channels,\n",
    "                                      num_filters=output_channels,filter_size=1,\n",
    "                                      stride_size=1,padding='SAME')\n",
    "    #######################################################################################\n",
    "    #upscore2\n",
    "    score_pool4,weight1,bias1 = conv_layer(inputTensor=pool4,num_input_channels=512,\n",
    "                                      num_filters=32,filter_size=1,\n",
    "                                      stride_size=1,padding='SAME')\n",
    "    upscore2,weight1 = deconv_layer(inputTensor=score_fr,outputShape=tf.shape(score_pool4),\n",
    "                                    num_input_channels=32,num_filters=32,\n",
    "                                    filter_size=4,stride_size=2,padding='SAME',useBias=False)\n",
    "    fuse_pool4 = score_pool4+upscore2\n",
    "    #######################################################################################\n",
    "    #upscore_pool4\n",
    "    score_pool3,weight1,bias1 = conv_layer(inputTensor=pool3,num_input_channels=256,\n",
    "                                      num_filters=32,filter_size=1,\n",
    "                                      stride_size=1,padding='SAME')\n",
    "    upscore_pool4,weight1 = deconv_layer(inputTensor=fuse_pool4,outputShape=tf.shape(score_pool3),\n",
    "                                    num_input_channels=32,num_filters=32,\n",
    "                                    filter_size=4,stride_size=2,padding='SAME',useBias=False)\n",
    "    fuse_pool3 = score_pool3+upscore_pool4\n",
    "    #######################################################################################\n",
    "    #upscore8\n",
    "    d =tf.constant([32])\n",
    "    shape =tf.concat(axis=0,values=[tf.shape(Lbl)[:-1],d])\n",
    "    upscore8,weight1 = deconv_layer(inputTensor=fuse_pool3,outputShape=shape,\n",
    "                                    num_input_channels=32,num_filters=32,\n",
    "                                    filter_size=16,stride_size=8,padding='SAME',useBias=False)\n",
    "    #######################################################################################\n",
    "    #loss\n",
    "    prediction = tf.argmax(upscore8, axis=3,output_type=tf.int32, name=\"prediction\")\n",
    "    accuracy = tf.reduce_mean(tf.cast(tf.equal(tf.expand_dims(prediction,axis=3),Lbl) ,tf.float32))\n",
    "    loss = tf.reduce_mean(tf.nn.sparse_softmax_cross_entropy_with_logits(logits=upscore8,\n",
    "                      labels=tf.squeeze(Lbl,axis=3),name=\"entropy\"))\n",
    "    tf.summary.scalar(\"loss\", loss)\n",
    "    summary_op = tf.summary.merge_all()\n",
    "    #net[\"shape\"] = _InputShape\n",
    "    net[\"summary\"] = summary_op\n",
    "    net[\"Prediction\"] = prediction\n",
    "    net[\"accuracy\"] = accuracy\n",
    "    net[\"loss\"] = loss\n",
    "    net[\"loss\"] = loss\n",
    "    net[\"Img\"] =_Img\n",
    "    net[\"Lbl\"]=_Lbl\n",
    "    net[\"Keep_prob\"] = _keep_probability\n",
    "    net[\"Out\"] = Lbl\n",
    "    return net"
   ]
  },
  {
   "cell_type": "code",
   "execution_count": 25,
   "metadata": {},
   "outputs": [],
   "source": [
    "def trainNet(net,flags,reader,sess):\n",
    "    print(\"Prepare training...\")\n",
    "    print(\"Setting up Saver...\")\n",
    "    summary_writer = tf.summary.FileWriter(flags.logs_dir+\"/train\", sess.graph)\n",
    "    \n",
    "    #print(\"Variables Initialized.\")\n",
    "   \n",
    "    #saver.restore(sess,flags.saver_dir+\"model.ckpt\")\n",
    "    optimizer = tf.train.AdamOptimizer(flags.learning_rate)\n",
    "    \n",
    "    train_op = optimizer.minimize(net[\"loss\"])\n",
    "\n",
    "    sess.run(tf.global_variables_initializer())\n",
    "    saver = tf.train.Saver(keep_checkpoint_every_n_hours=1)\n",
    "    #ckpt = tf.train.get_checkpoint_state(flags.saver_dir)\n",
    "    #if ckpt and ckpt.model_checkpoint_path:\n",
    "    #    saver.restore(sess, ckpt.model_checkpoint_path)\n",
    "    #    print(\"Model restored...\")\n",
    "    total_batch_count=0\n",
    "\n",
    "    for i in range(flags.epoch):\n",
    "        reader.begin_epoch()\n",
    "        batchIdx=0\n",
    "        while True:\n",
    "            (batch_img,batch_lbl) = reader.next_batch()\n",
    "            if batch_img==None:\n",
    "                break\n",
    "            feed_dict={net[\"Img\"]:batch_img,net[\"Lbl\"]:batch_lbl,net[\"Keep_prob\"] :0.5}\n",
    "            vals = sess.run([net[\"loss\"],net[\"accuracy\"],train_op,net[\"summary\"]],feed_dict=feed_dict)\n",
    "      \n",
    " \n",
    "            batchIdx+=1\n",
    "            print(\"epoch:%d, batch:%d, loss:%f,accuracy:%f\"%(i,batchIdx,vals[0],vals[1]))\n",
    "            summary_writer.add_summary(vals[3],total_batch_count)\n",
    "            total_batch_count+=1\n",
    "        saver.save(sess,flags.saver_dir+\"model.ckpt\")"
   ]
  },
  {
   "cell_type": "code",
   "execution_count": 26,
   "metadata": {
    "collapsed": true
   },
   "outputs": [],
   "source": [
    "def main(FLAGS):\n",
    "    FLAGS.batch_size = 2\n",
    "    FLAGS.epoch=100\n",
    "    FLAGS.learning_rate=0.05\n",
    "    trainingParams = ImageReader.TrainingParams()\n",
    "    trainingParams.set_batchSize(FLAGS.batch_size)\n",
    "    trainingParams.set_epochs(FLAGS.epoch)\n",
    "    trainingParams.set_lr(FLAGS.learning_rate)\n",
    "    trainingParams.set_UseRandomShuffle(True)\n",
    "    dataPairListGetter = ImageReader.getCamVidDataPairsList\n",
    "    reader = BatchDataReader(FLAGS.Img_dir,FLAGS.Lbl_dir,FLAGS.Txt_dir,\n",
    "                             dataPairListGetter,trainingParams)\n",
    "    #tf.reset_default_graph()\n",
    "    net = fcn()\n",
    "    with tf.Session() as sess:\n",
    "        trainNet(net,FLAGS,reader,sess)\n",
    "    "
   ]
  },
  {
   "cell_type": "code",
   "execution_count": 27,
   "metadata": {
    "collapsed": true
   },
   "outputs": [],
   "source": [
    "tf.reset_default_graph()"
   ]
  },
  {
   "cell_type": "code",
   "execution_count": 28,
   "metadata": {},
   "outputs": [
    {
     "name": "stdout",
     "output_type": "stream",
     "text": [
      "Initializing Batch Dataset Reader...\n",
      "Looking for images files...\n",
      "There are 701 files found in total.\n",
      "in which, 701 image files are found.\n",
      "Looking for label files...\n",
      "There are 701 files found in total.\n",
      "in which, 701 image files are found.\n",
      "Filtering for image correct label pairs...\n",
      "There are 701 image pairs in total\n",
      "Parsing txt file for labels...\n",
      "There are 32 classes in total\n",
      "Prepare training...\n",
      "Setting up Saver...\n",
      "sample 0\n",
      "sample 1\n"
     ]
    },
    {
     "name": "stderr",
     "output_type": "stream",
     "text": [
      "/home/yelyu/anaconda3/lib/python3.6/site-packages/ipykernel_launcher.py:27: FutureWarning: comparison to `None` will result in an elementwise object comparison in the future.\n"
     ]
    },
    {
     "ename": "FailedPreconditionError",
     "evalue": "Attempting to use uninitialized value beta1_power\n\t [[Node: beta1_power/read = Identity[T=DT_FLOAT, _class=[\"loc:@Variable\"], _device=\"/job:localhost/replica:0/task:0/gpu:0\"](beta1_power)]]\n\t [[Node: Mean/_25 = _Recv[client_terminated=false, recv_device=\"/job:localhost/replica:0/task:0/cpu:0\", send_device=\"/job:localhost/replica:0/task:0/gpu:0\", send_device_incarnation=1, tensor_name=\"edge_1754_Mean\", tensor_type=DT_FLOAT, _device=\"/job:localhost/replica:0/task:0/cpu:0\"]()]]\n\nCaused by op 'beta1_power/read', defined at:\n  File \"/home/yelyu/anaconda3/lib/python3.6/runpy.py\", line 193, in _run_module_as_main\n    \"__main__\", mod_spec)\n  File \"/home/yelyu/anaconda3/lib/python3.6/runpy.py\", line 85, in _run_code\n    exec(code, run_globals)\n  File \"/home/yelyu/anaconda3/lib/python3.6/site-packages/ipykernel_launcher.py\", line 16, in <module>\n    app.launch_new_instance()\n  File \"/home/yelyu/anaconda3/lib/python3.6/site-packages/traitlets/config/application.py\", line 658, in launch_instance\n    app.start()\n  File \"/home/yelyu/anaconda3/lib/python3.6/site-packages/ipykernel/kernelapp.py\", line 477, in start\n    ioloop.IOLoop.instance().start()\n  File \"/home/yelyu/anaconda3/lib/python3.6/site-packages/zmq/eventloop/ioloop.py\", line 177, in start\n    super(ZMQIOLoop, self).start()\n  File \"/home/yelyu/anaconda3/lib/python3.6/site-packages/tornado/ioloop.py\", line 888, in start\n    handler_func(fd_obj, events)\n  File \"/home/yelyu/anaconda3/lib/python3.6/site-packages/tornado/stack_context.py\", line 277, in null_wrapper\n    return fn(*args, **kwargs)\n  File \"/home/yelyu/anaconda3/lib/python3.6/site-packages/zmq/eventloop/zmqstream.py\", line 440, in _handle_events\n    self._handle_recv()\n  File \"/home/yelyu/anaconda3/lib/python3.6/site-packages/zmq/eventloop/zmqstream.py\", line 472, in _handle_recv\n    self._run_callback(callback, msg)\n  File \"/home/yelyu/anaconda3/lib/python3.6/site-packages/zmq/eventloop/zmqstream.py\", line 414, in _run_callback\n    callback(*args, **kwargs)\n  File \"/home/yelyu/anaconda3/lib/python3.6/site-packages/tornado/stack_context.py\", line 277, in null_wrapper\n    return fn(*args, **kwargs)\n  File \"/home/yelyu/anaconda3/lib/python3.6/site-packages/ipykernel/kernelbase.py\", line 283, in dispatcher\n    return self.dispatch_shell(stream, msg)\n  File \"/home/yelyu/anaconda3/lib/python3.6/site-packages/ipykernel/kernelbase.py\", line 235, in dispatch_shell\n    handler(stream, idents, msg)\n  File \"/home/yelyu/anaconda3/lib/python3.6/site-packages/ipykernel/kernelbase.py\", line 399, in execute_request\n    user_expressions, allow_stdin)\n  File \"/home/yelyu/anaconda3/lib/python3.6/site-packages/ipykernel/ipkernel.py\", line 196, in do_execute\n    res = shell.run_cell(code, store_history=store_history, silent=silent)\n  File \"/home/yelyu/anaconda3/lib/python3.6/site-packages/ipykernel/zmqshell.py\", line 533, in run_cell\n    return super(ZMQInteractiveShell, self).run_cell(*args, **kwargs)\n  File \"/home/yelyu/anaconda3/lib/python3.6/site-packages/IPython/core/interactiveshell.py\", line 2717, in run_cell\n    interactivity=interactivity, compiler=compiler, result=result)\n  File \"/home/yelyu/anaconda3/lib/python3.6/site-packages/IPython/core/interactiveshell.py\", line 2827, in run_ast_nodes\n    if self.run_code(code, result):\n  File \"/home/yelyu/anaconda3/lib/python3.6/site-packages/IPython/core/interactiveshell.py\", line 2881, in run_code\n    exec(code_obj, self.user_global_ns, self.user_ns)\n  File \"<ipython-input-28-ba35a979341c>\", line 1, in <module>\n    main(FLAGS)\n  File \"<ipython-input-26-c4a9a9307277>\", line 16, in main\n    trainNet(net,FLAGS,reader,sess)\n  File \"<ipython-input-25-6ed11060d7d2>\", line 11, in trainNet\n    train_op = optimizer.minimize(net[\"loss\"])\n  File \"/home/yelyu/anaconda3/lib/python3.6/site-packages/tensorflow/python/training/optimizer.py\", line 325, in minimize\n    name=name)\n  File \"/home/yelyu/anaconda3/lib/python3.6/site-packages/tensorflow/python/training/optimizer.py\", line 446, in apply_gradients\n    self._create_slots([_get_variable_for(v) for v in var_list])\n  File \"/home/yelyu/anaconda3/lib/python3.6/site-packages/tensorflow/python/training/adam.py\", line 126, in _create_slots\n    trainable=False)\n  File \"/home/yelyu/anaconda3/lib/python3.6/site-packages/tensorflow/python/ops/variable_scope.py\", line 1679, in variable\n    caching_device=caching_device, name=name, dtype=dtype)\n  File \"/home/yelyu/anaconda3/lib/python3.6/site-packages/tensorflow/python/ops/variables.py\", line 199, in __init__\n    expected_shape=expected_shape)\n  File \"/home/yelyu/anaconda3/lib/python3.6/site-packages/tensorflow/python/ops/variables.py\", line 330, in _init_from_args\n    self._snapshot = array_ops.identity(self._variable, name=\"read\")\n  File \"/home/yelyu/anaconda3/lib/python3.6/site-packages/tensorflow/python/ops/gen_array_ops.py\", line 1400, in identity\n    result = _op_def_lib.apply_op(\"Identity\", input=input, name=name)\n  File \"/home/yelyu/anaconda3/lib/python3.6/site-packages/tensorflow/python/framework/op_def_library.py\", line 767, in apply_op\n    op_def=op_def)\n  File \"/home/yelyu/anaconda3/lib/python3.6/site-packages/tensorflow/python/framework/ops.py\", line 2630, in create_op\n    original_op=self._default_original_op, op_def=op_def)\n  File \"/home/yelyu/anaconda3/lib/python3.6/site-packages/tensorflow/python/framework/ops.py\", line 1204, in __init__\n    self._traceback = self._graph._extract_stack()  # pylint: disable=protected-access\n\nFailedPreconditionError (see above for traceback): Attempting to use uninitialized value beta1_power\n\t [[Node: beta1_power/read = Identity[T=DT_FLOAT, _class=[\"loc:@Variable\"], _device=\"/job:localhost/replica:0/task:0/gpu:0\"](beta1_power)]]\n\t [[Node: Mean/_25 = _Recv[client_terminated=false, recv_device=\"/job:localhost/replica:0/task:0/cpu:0\", send_device=\"/job:localhost/replica:0/task:0/gpu:0\", send_device_incarnation=1, tensor_name=\"edge_1754_Mean\", tensor_type=DT_FLOAT, _device=\"/job:localhost/replica:0/task:0/cpu:0\"]()]]\n",
     "output_type": "error",
     "traceback": [
      "\u001b[0;31m---------------------------------------------------------------------------\u001b[0m",
      "\u001b[0;31mFailedPreconditionError\u001b[0m                   Traceback (most recent call last)",
      "\u001b[0;32m/home/yelyu/anaconda3/lib/python3.6/site-packages/tensorflow/python/client/session.py\u001b[0m in \u001b[0;36m_do_call\u001b[0;34m(self, fn, *args)\u001b[0m\n\u001b[1;32m   1326\u001b[0m     \u001b[0;32mtry\u001b[0m\u001b[0;34m:\u001b[0m\u001b[0;34m\u001b[0m\u001b[0m\n\u001b[0;32m-> 1327\u001b[0;31m       \u001b[0;32mreturn\u001b[0m \u001b[0mfn\u001b[0m\u001b[0;34m(\u001b[0m\u001b[0;34m*\u001b[0m\u001b[0margs\u001b[0m\u001b[0;34m)\u001b[0m\u001b[0;34m\u001b[0m\u001b[0m\n\u001b[0m\u001b[1;32m   1328\u001b[0m     \u001b[0;32mexcept\u001b[0m \u001b[0merrors\u001b[0m\u001b[0;34m.\u001b[0m\u001b[0mOpError\u001b[0m \u001b[0;32mas\u001b[0m \u001b[0me\u001b[0m\u001b[0;34m:\u001b[0m\u001b[0;34m\u001b[0m\u001b[0m\n",
      "\u001b[0;32m/home/yelyu/anaconda3/lib/python3.6/site-packages/tensorflow/python/client/session.py\u001b[0m in \u001b[0;36m_run_fn\u001b[0;34m(session, feed_dict, fetch_list, target_list, options, run_metadata)\u001b[0m\n\u001b[1;32m   1305\u001b[0m                                    \u001b[0mfeed_dict\u001b[0m\u001b[0;34m,\u001b[0m \u001b[0mfetch_list\u001b[0m\u001b[0;34m,\u001b[0m \u001b[0mtarget_list\u001b[0m\u001b[0;34m,\u001b[0m\u001b[0;34m\u001b[0m\u001b[0m\n\u001b[0;32m-> 1306\u001b[0;31m                                    status, run_metadata)\n\u001b[0m\u001b[1;32m   1307\u001b[0m \u001b[0;34m\u001b[0m\u001b[0m\n",
      "\u001b[0;32m/home/yelyu/anaconda3/lib/python3.6/contextlib.py\u001b[0m in \u001b[0;36m__exit__\u001b[0;34m(self, type, value, traceback)\u001b[0m\n\u001b[1;32m     88\u001b[0m             \u001b[0;32mtry\u001b[0m\u001b[0;34m:\u001b[0m\u001b[0;34m\u001b[0m\u001b[0m\n\u001b[0;32m---> 89\u001b[0;31m                 \u001b[0mnext\u001b[0m\u001b[0;34m(\u001b[0m\u001b[0mself\u001b[0m\u001b[0;34m.\u001b[0m\u001b[0mgen\u001b[0m\u001b[0;34m)\u001b[0m\u001b[0;34m\u001b[0m\u001b[0m\n\u001b[0m\u001b[1;32m     90\u001b[0m             \u001b[0;32mexcept\u001b[0m \u001b[0mStopIteration\u001b[0m\u001b[0;34m:\u001b[0m\u001b[0;34m\u001b[0m\u001b[0m\n",
      "\u001b[0;32m/home/yelyu/anaconda3/lib/python3.6/site-packages/tensorflow/python/framework/errors_impl.py\u001b[0m in \u001b[0;36mraise_exception_on_not_ok_status\u001b[0;34m()\u001b[0m\n\u001b[1;32m    465\u001b[0m           \u001b[0mcompat\u001b[0m\u001b[0;34m.\u001b[0m\u001b[0mas_text\u001b[0m\u001b[0;34m(\u001b[0m\u001b[0mpywrap_tensorflow\u001b[0m\u001b[0;34m.\u001b[0m\u001b[0mTF_Message\u001b[0m\u001b[0;34m(\u001b[0m\u001b[0mstatus\u001b[0m\u001b[0;34m)\u001b[0m\u001b[0;34m)\u001b[0m\u001b[0;34m,\u001b[0m\u001b[0;34m\u001b[0m\u001b[0m\n\u001b[0;32m--> 466\u001b[0;31m           pywrap_tensorflow.TF_GetCode(status))\n\u001b[0m\u001b[1;32m    467\u001b[0m   \u001b[0;32mfinally\u001b[0m\u001b[0;34m:\u001b[0m\u001b[0;34m\u001b[0m\u001b[0m\n",
      "\u001b[0;31mFailedPreconditionError\u001b[0m: Attempting to use uninitialized value beta1_power\n\t [[Node: beta1_power/read = Identity[T=DT_FLOAT, _class=[\"loc:@Variable\"], _device=\"/job:localhost/replica:0/task:0/gpu:0\"](beta1_power)]]\n\t [[Node: Mean/_25 = _Recv[client_terminated=false, recv_device=\"/job:localhost/replica:0/task:0/cpu:0\", send_device=\"/job:localhost/replica:0/task:0/gpu:0\", send_device_incarnation=1, tensor_name=\"edge_1754_Mean\", tensor_type=DT_FLOAT, _device=\"/job:localhost/replica:0/task:0/cpu:0\"]()]]",
      "\nDuring handling of the above exception, another exception occurred:\n",
      "\u001b[0;31mFailedPreconditionError\u001b[0m                   Traceback (most recent call last)",
      "\u001b[0;32m<ipython-input-28-ba35a979341c>\u001b[0m in \u001b[0;36m<module>\u001b[0;34m()\u001b[0m\n\u001b[0;32m----> 1\u001b[0;31m \u001b[0mmain\u001b[0m\u001b[0;34m(\u001b[0m\u001b[0mFLAGS\u001b[0m\u001b[0;34m)\u001b[0m\u001b[0;34m\u001b[0m\u001b[0m\n\u001b[0m",
      "\u001b[0;32m<ipython-input-26-c4a9a9307277>\u001b[0m in \u001b[0;36mmain\u001b[0;34m(FLAGS)\u001b[0m\n\u001b[1;32m     14\u001b[0m     \u001b[0mnet\u001b[0m \u001b[0;34m=\u001b[0m \u001b[0mfcn\u001b[0m\u001b[0;34m(\u001b[0m\u001b[0;34m)\u001b[0m\u001b[0;34m\u001b[0m\u001b[0m\n\u001b[1;32m     15\u001b[0m     \u001b[0;32mwith\u001b[0m \u001b[0mtf\u001b[0m\u001b[0;34m.\u001b[0m\u001b[0mSession\u001b[0m\u001b[0;34m(\u001b[0m\u001b[0;34m)\u001b[0m \u001b[0;32mas\u001b[0m \u001b[0msess\u001b[0m\u001b[0;34m:\u001b[0m\u001b[0;34m\u001b[0m\u001b[0m\n\u001b[0;32m---> 16\u001b[0;31m         \u001b[0mtrainNet\u001b[0m\u001b[0;34m(\u001b[0m\u001b[0mnet\u001b[0m\u001b[0;34m,\u001b[0m\u001b[0mFLAGS\u001b[0m\u001b[0;34m,\u001b[0m\u001b[0mreader\u001b[0m\u001b[0;34m,\u001b[0m\u001b[0msess\u001b[0m\u001b[0;34m)\u001b[0m\u001b[0;34m\u001b[0m\u001b[0m\n\u001b[0m\u001b[1;32m     17\u001b[0m \u001b[0;34m\u001b[0m\u001b[0m\n",
      "\u001b[0;32m<ipython-input-25-6ed11060d7d2>\u001b[0m in \u001b[0;36mtrainNet\u001b[0;34m(net, flags, reader, sess)\u001b[0m\n\u001b[1;32m     28\u001b[0m                 \u001b[0;32mbreak\u001b[0m\u001b[0;34m\u001b[0m\u001b[0m\n\u001b[1;32m     29\u001b[0m             \u001b[0mfeed_dict\u001b[0m\u001b[0;34m=\u001b[0m\u001b[0;34m{\u001b[0m\u001b[0mnet\u001b[0m\u001b[0;34m[\u001b[0m\u001b[0;34m\"Img\"\u001b[0m\u001b[0;34m]\u001b[0m\u001b[0;34m:\u001b[0m\u001b[0mbatch_img\u001b[0m\u001b[0;34m,\u001b[0m\u001b[0mnet\u001b[0m\u001b[0;34m[\u001b[0m\u001b[0;34m\"Lbl\"\u001b[0m\u001b[0;34m]\u001b[0m\u001b[0;34m:\u001b[0m\u001b[0mbatch_lbl\u001b[0m\u001b[0;34m,\u001b[0m\u001b[0mnet\u001b[0m\u001b[0;34m[\u001b[0m\u001b[0;34m\"Keep_prob\"\u001b[0m\u001b[0;34m]\u001b[0m \u001b[0;34m:\u001b[0m\u001b[0;36m0.5\u001b[0m\u001b[0;34m}\u001b[0m\u001b[0;34m\u001b[0m\u001b[0m\n\u001b[0;32m---> 30\u001b[0;31m             \u001b[0mvals\u001b[0m \u001b[0;34m=\u001b[0m \u001b[0msess\u001b[0m\u001b[0;34m.\u001b[0m\u001b[0mrun\u001b[0m\u001b[0;34m(\u001b[0m\u001b[0;34m[\u001b[0m\u001b[0mnet\u001b[0m\u001b[0;34m[\u001b[0m\u001b[0;34m\"loss\"\u001b[0m\u001b[0;34m]\u001b[0m\u001b[0;34m,\u001b[0m\u001b[0mnet\u001b[0m\u001b[0;34m[\u001b[0m\u001b[0;34m\"accuracy\"\u001b[0m\u001b[0;34m]\u001b[0m\u001b[0;34m,\u001b[0m\u001b[0mtrain_op\u001b[0m\u001b[0;34m,\u001b[0m\u001b[0mnet\u001b[0m\u001b[0;34m[\u001b[0m\u001b[0;34m\"summary\"\u001b[0m\u001b[0;34m]\u001b[0m\u001b[0;34m]\u001b[0m\u001b[0;34m,\u001b[0m\u001b[0mfeed_dict\u001b[0m\u001b[0;34m=\u001b[0m\u001b[0mfeed_dict\u001b[0m\u001b[0;34m)\u001b[0m\u001b[0;34m\u001b[0m\u001b[0m\n\u001b[0m\u001b[1;32m     31\u001b[0m \u001b[0;34m\u001b[0m\u001b[0m\n\u001b[1;32m     32\u001b[0m \u001b[0;34m\u001b[0m\u001b[0m\n",
      "\u001b[0;32m/home/yelyu/anaconda3/lib/python3.6/site-packages/tensorflow/python/client/session.py\u001b[0m in \u001b[0;36mrun\u001b[0;34m(self, fetches, feed_dict, options, run_metadata)\u001b[0m\n\u001b[1;32m    893\u001b[0m     \u001b[0;32mtry\u001b[0m\u001b[0;34m:\u001b[0m\u001b[0;34m\u001b[0m\u001b[0m\n\u001b[1;32m    894\u001b[0m       result = self._run(None, fetches, feed_dict, options_ptr,\n\u001b[0;32m--> 895\u001b[0;31m                          run_metadata_ptr)\n\u001b[0m\u001b[1;32m    896\u001b[0m       \u001b[0;32mif\u001b[0m \u001b[0mrun_metadata\u001b[0m\u001b[0;34m:\u001b[0m\u001b[0;34m\u001b[0m\u001b[0m\n\u001b[1;32m    897\u001b[0m         \u001b[0mproto_data\u001b[0m \u001b[0;34m=\u001b[0m \u001b[0mtf_session\u001b[0m\u001b[0;34m.\u001b[0m\u001b[0mTF_GetBuffer\u001b[0m\u001b[0;34m(\u001b[0m\u001b[0mrun_metadata_ptr\u001b[0m\u001b[0;34m)\u001b[0m\u001b[0;34m\u001b[0m\u001b[0m\n",
      "\u001b[0;32m/home/yelyu/anaconda3/lib/python3.6/site-packages/tensorflow/python/client/session.py\u001b[0m in \u001b[0;36m_run\u001b[0;34m(self, handle, fetches, feed_dict, options, run_metadata)\u001b[0m\n\u001b[1;32m   1122\u001b[0m     \u001b[0;32mif\u001b[0m \u001b[0mfinal_fetches\u001b[0m \u001b[0;32mor\u001b[0m \u001b[0mfinal_targets\u001b[0m \u001b[0;32mor\u001b[0m \u001b[0;34m(\u001b[0m\u001b[0mhandle\u001b[0m \u001b[0;32mand\u001b[0m \u001b[0mfeed_dict_tensor\u001b[0m\u001b[0;34m)\u001b[0m\u001b[0;34m:\u001b[0m\u001b[0;34m\u001b[0m\u001b[0m\n\u001b[1;32m   1123\u001b[0m       results = self._do_run(handle, final_targets, final_fetches,\n\u001b[0;32m-> 1124\u001b[0;31m                              feed_dict_tensor, options, run_metadata)\n\u001b[0m\u001b[1;32m   1125\u001b[0m     \u001b[0;32melse\u001b[0m\u001b[0;34m:\u001b[0m\u001b[0;34m\u001b[0m\u001b[0m\n\u001b[1;32m   1126\u001b[0m       \u001b[0mresults\u001b[0m \u001b[0;34m=\u001b[0m \u001b[0;34m[\u001b[0m\u001b[0;34m]\u001b[0m\u001b[0;34m\u001b[0m\u001b[0m\n",
      "\u001b[0;32m/home/yelyu/anaconda3/lib/python3.6/site-packages/tensorflow/python/client/session.py\u001b[0m in \u001b[0;36m_do_run\u001b[0;34m(self, handle, target_list, fetch_list, feed_dict, options, run_metadata)\u001b[0m\n\u001b[1;32m   1319\u001b[0m     \u001b[0;32mif\u001b[0m \u001b[0mhandle\u001b[0m \u001b[0;32mis\u001b[0m \u001b[0;32mNone\u001b[0m\u001b[0;34m:\u001b[0m\u001b[0;34m\u001b[0m\u001b[0m\n\u001b[1;32m   1320\u001b[0m       return self._do_call(_run_fn, self._session, feeds, fetches, targets,\n\u001b[0;32m-> 1321\u001b[0;31m                            options, run_metadata)\n\u001b[0m\u001b[1;32m   1322\u001b[0m     \u001b[0;32melse\u001b[0m\u001b[0;34m:\u001b[0m\u001b[0;34m\u001b[0m\u001b[0m\n\u001b[1;32m   1323\u001b[0m       \u001b[0;32mreturn\u001b[0m \u001b[0mself\u001b[0m\u001b[0;34m.\u001b[0m\u001b[0m_do_call\u001b[0m\u001b[0;34m(\u001b[0m\u001b[0m_prun_fn\u001b[0m\u001b[0;34m,\u001b[0m \u001b[0mself\u001b[0m\u001b[0;34m.\u001b[0m\u001b[0m_session\u001b[0m\u001b[0;34m,\u001b[0m \u001b[0mhandle\u001b[0m\u001b[0;34m,\u001b[0m \u001b[0mfeeds\u001b[0m\u001b[0;34m,\u001b[0m \u001b[0mfetches\u001b[0m\u001b[0;34m)\u001b[0m\u001b[0;34m\u001b[0m\u001b[0m\n",
      "\u001b[0;32m/home/yelyu/anaconda3/lib/python3.6/site-packages/tensorflow/python/client/session.py\u001b[0m in \u001b[0;36m_do_call\u001b[0;34m(self, fn, *args)\u001b[0m\n\u001b[1;32m   1338\u001b[0m         \u001b[0;32mexcept\u001b[0m \u001b[0mKeyError\u001b[0m\u001b[0;34m:\u001b[0m\u001b[0;34m\u001b[0m\u001b[0m\n\u001b[1;32m   1339\u001b[0m           \u001b[0;32mpass\u001b[0m\u001b[0;34m\u001b[0m\u001b[0m\n\u001b[0;32m-> 1340\u001b[0;31m       \u001b[0;32mraise\u001b[0m \u001b[0mtype\u001b[0m\u001b[0;34m(\u001b[0m\u001b[0me\u001b[0m\u001b[0;34m)\u001b[0m\u001b[0;34m(\u001b[0m\u001b[0mnode_def\u001b[0m\u001b[0;34m,\u001b[0m \u001b[0mop\u001b[0m\u001b[0;34m,\u001b[0m \u001b[0mmessage\u001b[0m\u001b[0;34m)\u001b[0m\u001b[0;34m\u001b[0m\u001b[0m\n\u001b[0m\u001b[1;32m   1341\u001b[0m \u001b[0;34m\u001b[0m\u001b[0m\n\u001b[1;32m   1342\u001b[0m   \u001b[0;32mdef\u001b[0m \u001b[0m_extend_graph\u001b[0m\u001b[0;34m(\u001b[0m\u001b[0mself\u001b[0m\u001b[0;34m)\u001b[0m\u001b[0;34m:\u001b[0m\u001b[0;34m\u001b[0m\u001b[0m\n",
      "\u001b[0;31mFailedPreconditionError\u001b[0m: Attempting to use uninitialized value beta1_power\n\t [[Node: beta1_power/read = Identity[T=DT_FLOAT, _class=[\"loc:@Variable\"], _device=\"/job:localhost/replica:0/task:0/gpu:0\"](beta1_power)]]\n\t [[Node: Mean/_25 = _Recv[client_terminated=false, recv_device=\"/job:localhost/replica:0/task:0/cpu:0\", send_device=\"/job:localhost/replica:0/task:0/gpu:0\", send_device_incarnation=1, tensor_name=\"edge_1754_Mean\", tensor_type=DT_FLOAT, _device=\"/job:localhost/replica:0/task:0/cpu:0\"]()]]\n\nCaused by op 'beta1_power/read', defined at:\n  File \"/home/yelyu/anaconda3/lib/python3.6/runpy.py\", line 193, in _run_module_as_main\n    \"__main__\", mod_spec)\n  File \"/home/yelyu/anaconda3/lib/python3.6/runpy.py\", line 85, in _run_code\n    exec(code, run_globals)\n  File \"/home/yelyu/anaconda3/lib/python3.6/site-packages/ipykernel_launcher.py\", line 16, in <module>\n    app.launch_new_instance()\n  File \"/home/yelyu/anaconda3/lib/python3.6/site-packages/traitlets/config/application.py\", line 658, in launch_instance\n    app.start()\n  File \"/home/yelyu/anaconda3/lib/python3.6/site-packages/ipykernel/kernelapp.py\", line 477, in start\n    ioloop.IOLoop.instance().start()\n  File \"/home/yelyu/anaconda3/lib/python3.6/site-packages/zmq/eventloop/ioloop.py\", line 177, in start\n    super(ZMQIOLoop, self).start()\n  File \"/home/yelyu/anaconda3/lib/python3.6/site-packages/tornado/ioloop.py\", line 888, in start\n    handler_func(fd_obj, events)\n  File \"/home/yelyu/anaconda3/lib/python3.6/site-packages/tornado/stack_context.py\", line 277, in null_wrapper\n    return fn(*args, **kwargs)\n  File \"/home/yelyu/anaconda3/lib/python3.6/site-packages/zmq/eventloop/zmqstream.py\", line 440, in _handle_events\n    self._handle_recv()\n  File \"/home/yelyu/anaconda3/lib/python3.6/site-packages/zmq/eventloop/zmqstream.py\", line 472, in _handle_recv\n    self._run_callback(callback, msg)\n  File \"/home/yelyu/anaconda3/lib/python3.6/site-packages/zmq/eventloop/zmqstream.py\", line 414, in _run_callback\n    callback(*args, **kwargs)\n  File \"/home/yelyu/anaconda3/lib/python3.6/site-packages/tornado/stack_context.py\", line 277, in null_wrapper\n    return fn(*args, **kwargs)\n  File \"/home/yelyu/anaconda3/lib/python3.6/site-packages/ipykernel/kernelbase.py\", line 283, in dispatcher\n    return self.dispatch_shell(stream, msg)\n  File \"/home/yelyu/anaconda3/lib/python3.6/site-packages/ipykernel/kernelbase.py\", line 235, in dispatch_shell\n    handler(stream, idents, msg)\n  File \"/home/yelyu/anaconda3/lib/python3.6/site-packages/ipykernel/kernelbase.py\", line 399, in execute_request\n    user_expressions, allow_stdin)\n  File \"/home/yelyu/anaconda3/lib/python3.6/site-packages/ipykernel/ipkernel.py\", line 196, in do_execute\n    res = shell.run_cell(code, store_history=store_history, silent=silent)\n  File \"/home/yelyu/anaconda3/lib/python3.6/site-packages/ipykernel/zmqshell.py\", line 533, in run_cell\n    return super(ZMQInteractiveShell, self).run_cell(*args, **kwargs)\n  File \"/home/yelyu/anaconda3/lib/python3.6/site-packages/IPython/core/interactiveshell.py\", line 2717, in run_cell\n    interactivity=interactivity, compiler=compiler, result=result)\n  File \"/home/yelyu/anaconda3/lib/python3.6/site-packages/IPython/core/interactiveshell.py\", line 2827, in run_ast_nodes\n    if self.run_code(code, result):\n  File \"/home/yelyu/anaconda3/lib/python3.6/site-packages/IPython/core/interactiveshell.py\", line 2881, in run_code\n    exec(code_obj, self.user_global_ns, self.user_ns)\n  File \"<ipython-input-28-ba35a979341c>\", line 1, in <module>\n    main(FLAGS)\n  File \"<ipython-input-26-c4a9a9307277>\", line 16, in main\n    trainNet(net,FLAGS,reader,sess)\n  File \"<ipython-input-25-6ed11060d7d2>\", line 11, in trainNet\n    train_op = optimizer.minimize(net[\"loss\"])\n  File \"/home/yelyu/anaconda3/lib/python3.6/site-packages/tensorflow/python/training/optimizer.py\", line 325, in minimize\n    name=name)\n  File \"/home/yelyu/anaconda3/lib/python3.6/site-packages/tensorflow/python/training/optimizer.py\", line 446, in apply_gradients\n    self._create_slots([_get_variable_for(v) for v in var_list])\n  File \"/home/yelyu/anaconda3/lib/python3.6/site-packages/tensorflow/python/training/adam.py\", line 126, in _create_slots\n    trainable=False)\n  File \"/home/yelyu/anaconda3/lib/python3.6/site-packages/tensorflow/python/ops/variable_scope.py\", line 1679, in variable\n    caching_device=caching_device, name=name, dtype=dtype)\n  File \"/home/yelyu/anaconda3/lib/python3.6/site-packages/tensorflow/python/ops/variables.py\", line 199, in __init__\n    expected_shape=expected_shape)\n  File \"/home/yelyu/anaconda3/lib/python3.6/site-packages/tensorflow/python/ops/variables.py\", line 330, in _init_from_args\n    self._snapshot = array_ops.identity(self._variable, name=\"read\")\n  File \"/home/yelyu/anaconda3/lib/python3.6/site-packages/tensorflow/python/ops/gen_array_ops.py\", line 1400, in identity\n    result = _op_def_lib.apply_op(\"Identity\", input=input, name=name)\n  File \"/home/yelyu/anaconda3/lib/python3.6/site-packages/tensorflow/python/framework/op_def_library.py\", line 767, in apply_op\n    op_def=op_def)\n  File \"/home/yelyu/anaconda3/lib/python3.6/site-packages/tensorflow/python/framework/ops.py\", line 2630, in create_op\n    original_op=self._default_original_op, op_def=op_def)\n  File \"/home/yelyu/anaconda3/lib/python3.6/site-packages/tensorflow/python/framework/ops.py\", line 1204, in __init__\n    self._traceback = self._graph._extract_stack()  # pylint: disable=protected-access\n\nFailedPreconditionError (see above for traceback): Attempting to use uninitialized value beta1_power\n\t [[Node: beta1_power/read = Identity[T=DT_FLOAT, _class=[\"loc:@Variable\"], _device=\"/job:localhost/replica:0/task:0/gpu:0\"](beta1_power)]]\n\t [[Node: Mean/_25 = _Recv[client_terminated=false, recv_device=\"/job:localhost/replica:0/task:0/cpu:0\", send_device=\"/job:localhost/replica:0/task:0/gpu:0\", send_device_incarnation=1, tensor_name=\"edge_1754_Mean\", tensor_type=DT_FLOAT, _device=\"/job:localhost/replica:0/task:0/cpu:0\"]()]]\n"
     ]
    }
   ],
   "source": [
    "main(FLAGS)"
   ]
  },
  {
   "cell_type": "code",
   "execution_count": null,
   "metadata": {
    "collapsed": true
   },
   "outputs": [],
   "source": []
  }
 ],
 "metadata": {
  "kernelspec": {
   "display_name": "Python 3",
   "language": "python",
   "name": "python3"
  },
  "language_info": {
   "codemirror_mode": {
    "name": "ipython",
    "version": 3
   },
   "file_extension": ".py",
   "mimetype": "text/x-python",
   "name": "python",
   "nbconvert_exporter": "python",
   "pygments_lexer": "ipython3",
   "version": "3.6.1"
  }
 },
 "nbformat": 4,
 "nbformat_minor": 2
}
